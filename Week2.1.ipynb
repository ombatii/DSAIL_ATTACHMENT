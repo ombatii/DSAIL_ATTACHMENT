{
 "cells": [
  {
   "cell_type": "markdown",
   "id": "404a0c1b",
   "metadata": {},
   "source": [
    "# 5. Iteration"
   ]
  },
  {
   "cell_type": "markdown",
   "id": "583fb492",
   "metadata": {},
   "source": [
    "## 5.9 Exercises"
   ]
  },
  {
   "cell_type": "markdown",
   "id": "35d0b8e3",
   "metadata": {},
   "source": [
    "*Exercise 1:* Write a program which repeatedly reads numbers until the\n",
    "user enters “done”. Once “done” is entered, print out the total, count,\n",
    "and average of the numbers. If the user enters anything other than a\n",
    "number, detect their mistake using try and except and print an error\n",
    "message and skip to the next number.\n",
    "\n",
    "Enter a number: 4\n",
    "\n",
    "Enter a number: 5\n",
    "\n",
    "Enter a number: bad data\n",
    "\n",
    "Invalid input\n",
    "\n",
    "Enter a number: 7\n",
    "\n",
    "Enter a number: done\n",
    "\n",
    "16 3 5.333333333333333"
   ]
  },
  {
   "cell_type": "code",
   "execution_count": 2,
   "id": "6edb1683",
   "metadata": {},
   "outputs": [
    {
     "name": "stdout",
     "output_type": "stream",
     "text": [
      "Enter a number: 6\n",
      "Enter a number: 9\n",
      "Enter a number: done\n",
      "Count of the numbers entered: 2\n",
      "Total of the numbers entered: 15.0\n",
      "Average of the numbers entered: 7.5\n"
     ]
    }
   ],
   "source": [
    "# initialize count, total, and average\n",
    "count = 0\n",
    "total = 0\n",
    "average = 0\n",
    "\n",
    "# while loop\n",
    "while True:\n",
    "    # get the numbers from the user\n",
    "    number = input(\"Enter a number: \")\n",
    "    \n",
    "    # the loop to contunue until  the user enters 'done'\n",
    "    if number == \"done\":\n",
    "        break\n",
    "\n",
    "    try:\n",
    "        # convert the input to float\n",
    "        number = float(number)\n",
    "\n",
    "        # increment both count and total\n",
    "        count += 1\n",
    "        total += number\n",
    "\n",
    "    except ValueError:\n",
    "        # print error message for invalid input\n",
    "        print(\"Invalid input\")\n",
    "        continue\n",
    "\n",
    "# calculating average by saying if the count value is greater than 0 ,calculate the average \n",
    "if count > 0:\n",
    "    average = total / count\n",
    "\n",
    "# display count, total, and average\n",
    "print(f\"Count of the numbers entered: {count}\")\n",
    "print(f\"Total of the numbers entered: {total}\")\n",
    "print(f\"Average of the numbers entered: {average}\")"
   ]
  },
  {
   "cell_type": "markdown",
   "id": "7a56c1f5",
   "metadata": {},
   "source": [
    "*Exercise 2:* Write another program that prompts for a list of numbers\n",
    "as above and at the end prints out both the maximum and minimum of\n",
    "the numbers instead of the average."
   ]
  },
  {
   "cell_type": "code",
   "execution_count": 3,
   "id": "81d8fdfc",
   "metadata": {},
   "outputs": [
    {
     "name": "stdout",
     "output_type": "stream",
     "text": [
      "Enter a number: 8\n",
      "Enter a number: 12\n",
      "Enter a number: 5\n",
      "Enter a number: 9\n",
      "Enter a number: done\n",
      "Count of the numbers entered: 4\n",
      "Total of the numbers entered: 34.0\n",
      "Maximum of the numbers entered: 12.0\n",
      "Minimum of the numbers entered: 5.0\n"
     ]
    }
   ],
   "source": [
    "# initialize count and total as 0 , maximum, and minimum as None\n",
    "count = 0\n",
    "total = 0\n",
    "maximum = None\n",
    "minimum = None\n",
    "\n",
    "# while loop\n",
    "while True:\n",
    "    # get the numbers from the user\n",
    "    number = input(\"Enter a number: \")\n",
    "    \n",
    "    # the loop to contunue until  the user enters 'done'\n",
    "    if number == \"done\":\n",
    "        break\n",
    "\n",
    "    try:\n",
    "        # convert the input to float\n",
    "        number = float(number)\n",
    "\n",
    "        # increment count\n",
    "        count += 1\n",
    "        # update total\n",
    "        total += number\n",
    "\n",
    "        # update maximum and minimum\n",
    "        if maximum is None or number > maximum:\n",
    "            maximum = number\n",
    "        if minimum is None or number < minimum:\n",
    "            minimum = number\n",
    "\n",
    "    except ValueError:\n",
    "        # print error message for invalid input\n",
    "        print(\"Invalid input\")\n",
    "        continue\n",
    "\n",
    "# display count, total, maximum, and minimum\n",
    "print(f\"Count of the numbers entered: {count}\")\n",
    "print(f\"Total of the numbers entered: {total}\")\n",
    "\n",
    "# do only if the value count is more than 0\n",
    "if count > 0:\n",
    "    print(f\"Maximum of the numbers entered: {maximum}\")\n",
    "    print(f\"Minimum of the numbers entered: {minimum}\")\n"
   ]
  },
  {
   "cell_type": "markdown",
   "id": "a07b1ddc",
   "metadata": {},
   "source": [
    "# 6. Strings"
   ]
  },
  {
   "cell_type": "markdown",
   "id": "90fc0df3",
   "metadata": {},
   "source": [
    "*Exercise 1:* Write a while loop that starts at the last character in the\n",
    "string and works its way backwards to the first character in the string,\n",
    "printing each letter on a separate line, except backwards."
   ]
  },
  {
   "cell_type": "code",
   "execution_count": 11,
   "id": "aa39e698",
   "metadata": {},
   "outputs": [
    {
     "name": "stdout",
     "output_type": "stream",
     "text": [
      "a\n",
      "n\n",
      "a\n",
      "n\n",
      "a\n",
      "b\n"
     ]
    }
   ],
   "source": [
    "fruit = 'banana'\n",
    "index = len(fruit) -1\n",
    "while index >= 0:\n",
    "        letter = fruit[index]\n",
    "        print(letter)\n",
    "        index = index - 1"
   ]
  },
  {
   "cell_type": "markdown",
   "id": "4c7d0e13",
   "metadata": {},
   "source": [
    "*Exercise 2:* Given that fruit is a string, what does fruit[:] mean?"
   ]
  },
  {
   "cell_type": "code",
   "execution_count": 12,
   "id": "f3e1f6f5",
   "metadata": {},
   "outputs": [
    {
     "data": {
      "text/plain": [
       "'banana'"
      ]
     },
     "execution_count": 12,
     "metadata": {},
     "output_type": "execute_result"
    }
   ],
   "source": [
    "fruit[:]"
   ]
  },
  {
   "cell_type": "markdown",
   "id": "6a9a0acc",
   "metadata": {},
   "source": [
    "It would print every character in the string \"banana\""
   ]
  },
  {
   "cell_type": "markdown",
   "id": "0efd6723",
   "metadata": {},
   "source": [
    "3: Encapsulate this code in a function named count, and generalize it so that it accepts the string and the letter as arguments.\n",
    "    \n",
    "*Code*\n",
    "word = 'banana'\n",
    "\n",
    "count = 0\n",
    "\n",
    "for letter in word:\n",
    "\n",
    "     if letter == 'a':\n",
    "     \n",
    "        count = count + 1\n",
    "print(count)"
   ]
  },
  {
   "cell_type": "code",
   "execution_count": 24,
   "id": "f0ffb862",
   "metadata": {},
   "outputs": [
    {
     "name": "stdout",
     "output_type": "stream",
     "text": [
      "3\n"
     ]
    }
   ],
   "source": [
    "word = 'banana'\n",
    "\n",
    "\n",
    "def count(word):\n",
    "    x = 0\n",
    "    for letter in word:\n",
    "         if letter == 'a':\n",
    "            x = x + 1\n",
    "    return x \n",
    "            \n",
    "print(count(word))"
   ]
  },
  {
   "cell_type": "markdown",
   "id": "9f24b83d",
   "metadata": {},
   "source": [
    "Exercise 4: There is a string method called count that is similar to\n",
    "the function in the previous exercise. Read the documentation of this\n",
    "method at:\n",
    "https://docs.python.org/library/stdtypes.html#string-methods\n",
    "Write an invocation that counts the number of times the letter a occurs\n",
    "in “banana”."
   ]
  },
  {
   "cell_type": "code",
   "execution_count": 25,
   "id": "4009a7d6",
   "metadata": {},
   "outputs": [
    {
     "data": {
      "text/plain": [
       "1"
      ]
     },
     "execution_count": 25,
     "metadata": {},
     "output_type": "execute_result"
    }
   ],
   "source": [
    "word.find('a')"
   ]
  },
  {
   "cell_type": "code",
   "execution_count": 26,
   "id": "e7eb2e14",
   "metadata": {},
   "outputs": [
    {
     "name": "stdout",
     "output_type": "stream",
     "text": [
      "3\n"
     ]
    }
   ],
   "source": [
    "count = word.count(\"a\")\n",
    "print(count)"
   ]
  },
  {
   "cell_type": "markdown",
   "id": "4ae6caeb",
   "metadata": {},
   "source": [
    "## 6.14 Exercises"
   ]
  },
  {
   "cell_type": "markdown",
   "id": "d1de3f8e",
   "metadata": {},
   "source": [
    "*Exercise 5:* Take the following Python code that stores a string:\n",
    "str = 'X-DSPAM-Confidence:0.8475'\n",
    "Use find and string slicing to extract the portion of the string after the\n",
    "colon character and then use the float function to convert the extracted\n",
    "string into a floating point number."
   ]
  },
  {
   "cell_type": "code",
   "execution_count": 29,
   "id": "45b18846",
   "metadata": {},
   "outputs": [
    {
     "name": "stdout",
     "output_type": "stream",
     "text": [
      "18\n"
     ]
    }
   ],
   "source": [
    "# define 'str'\n",
    "str = 'X-DSPAM-Confidence:0.8475' \n",
    "\n",
    "begin = str.find(':')\n",
    "print(begin)"
   ]
  },
  {
   "cell_type": "code",
   "execution_count": 39,
   "id": "067add24",
   "metadata": {},
   "outputs": [
    {
     "name": "stdout",
     "output_type": "stream",
     "text": [
      "24\n"
     ]
    }
   ],
   "source": [
    "end = str.find('5')\n",
    "print(end)"
   ]
  },
  {
   "cell_type": "code",
   "execution_count": 41,
   "id": "988d5ac1",
   "metadata": {},
   "outputs": [
    {
     "name": "stdout",
     "output_type": "stream",
     "text": [
      "0.8475\n"
     ]
    }
   ],
   "source": [
    "new = str[begin+1:end+1]\n",
    "new = float(new)\n",
    "print(new)"
   ]
  },
  {
   "cell_type": "markdown",
   "id": "a02528da",
   "metadata": {},
   "source": [
    "*Exercise 6:* Read the documentation of the string methods at\n",
    "https://docs.python.org/library/stdtypes.html#string-methods You\n",
    "might want to experiment with some of them to make sure you\n",
    "understand how they work. strip and replace are particularly useful.\n",
    "The documentation uses a syntax that might be confusing. For example,\n",
    "in find(sub[, start[, end]]), the brackets indicate optional arguments.\n",
    "So sub is required, but start is optional, and if you include start, then\n",
    "end is optional"
   ]
  },
  {
   "cell_type": "code",
   "execution_count": 44,
   "id": "a45db681",
   "metadata": {},
   "outputs": [
    {
     "name": "stdout",
     "output_type": "stream",
     "text": [
      "you might want to experiment with some of them to make sure you understand how they work. strip and replace are particularly useful\n"
     ]
    }
   ],
   "source": [
    "# define string\n",
    "sentence =\"you might want to experiment with some of them to make sure you understand how they work. strip and replace are particularly useful\"\n",
    "print(sentence)"
   ]
  },
  {
   "cell_type": "code",
   "execution_count": 45,
   "id": "7deb8470",
   "metadata": {},
   "outputs": [
    {
     "data": {
      "text/plain": [
       "'You might want to experiment with some of them to make sure you understand how they work. strip and replace are particularly useful'"
      ]
     },
     "execution_count": 45,
     "metadata": {},
     "output_type": "execute_result"
    }
   ],
   "source": [
    "# capitalize string\n",
    "sentence.capitalize()"
   ]
  },
  {
   "cell_type": "code",
   "execution_count": 46,
   "id": "46a0540a",
   "metadata": {},
   "outputs": [
    {
     "data": {
      "text/plain": [
       "'you might want to experiment with some of them to make sure you understand how they work. strip and replace are particularly useful'"
      ]
     },
     "execution_count": 46,
     "metadata": {},
     "output_type": "execute_result"
    }
   ],
   "source": [
    "# Casefolded string\n",
    "sentence.casefold()"
   ]
  },
  {
   "cell_type": "code",
   "execution_count": 54,
   "id": "10751cbb",
   "metadata": {},
   "outputs": [
    {
     "name": "stdout",
     "output_type": "stream",
     "text": [
      "you might want to experiment with some of them to make sure you understand how they work. strip and replace are particularly useful\n"
     ]
    }
   ],
   "source": [
    "\"\"\"\n",
    "str.center(width[, fillchar]);\n",
    "Return centered in a string of length width.\n",
    "\"\"\"\n",
    "\n",
    "\n",
    "# Using str.center(width[, fillchar])\n",
    "centered = sentence.center(100, \"*\")\n",
    "print(centered)"
   ]
  },
  {
   "cell_type": "code",
   "execution_count": 56,
   "id": "fd2a41a4",
   "metadata": {},
   "outputs": [
    {
     "name": "stdout",
     "output_type": "stream",
     "text": [
      "2\n"
     ]
    }
   ],
   "source": [
    "\"\"\"\n",
    "str.count(sub[, start[, end]]);\n",
    "Return the number of non-overlapping occurrences of substring sub in the range [start, end].\n",
    "\"\"\"\n",
    "\n",
    "\n",
    "# Using str.count(sub[, start[, end]])\n",
    "count_c = sentence.count(\"c\")\n",
    "print(count_c)"
   ]
  },
  {
   "cell_type": "code",
   "execution_count": null,
   "id": "257e162b",
   "metadata": {},
   "outputs": [],
   "source": []
  }
 ],
 "metadata": {
  "kernelspec": {
   "display_name": "Python 3 (ipykernel)",
   "language": "python",
   "name": "python3"
  },
  "language_info": {
   "codemirror_mode": {
    "name": "ipython",
    "version": 3
   },
   "file_extension": ".py",
   "mimetype": "text/x-python",
   "name": "python",
   "nbconvert_exporter": "python",
   "pygments_lexer": "ipython3",
   "version": "3.9.12"
  }
 },
 "nbformat": 4,
 "nbformat_minor": 5
}
