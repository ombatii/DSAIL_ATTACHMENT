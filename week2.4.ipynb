{
 "cells": [
  {
   "cell_type": "markdown",
   "id": "fd1eda63",
   "metadata": {},
   "source": [
    "# VERIFICATION OF EQUATION 1.11 USING PYTHON"
   ]
  },
  {
   "cell_type": "markdown",
   "id": "850de7e6",
   "metadata": {},
   "source": [
    "# Equation 1.11\n",
    "f(x; w0, w1) = 36.416 − 0.013x"
   ]
  },
  {
   "cell_type": "markdown",
   "id": "ded8a108",
   "metadata": {},
   "source": [
    "## Import libraries"
   ]
  },
  {
   "cell_type": "code",
   "execution_count": 1,
   "id": "3f35f433",
   "metadata": {},
   "outputs": [],
   "source": [
    "import seaborn as sns\n",
    "import matplotlib.pyplot as plt\n",
    "import numpy as np \n",
    "import pandas as pd\n",
    "import statsmodels.api as sm"
   ]
  },
  {
   "cell_type": "markdown",
   "id": "d701db4f",
   "metadata": {},
   "source": [
    "## Creating the Olympic men’s 100 m data"
   ]
  },
  {
   "cell_type": "code",
   "execution_count": 8,
   "id": "a283ac62",
   "metadata": {},
   "outputs": [
    {
     "data": {
      "text/plain": [
       "[1896,\n",
       " 1900,\n",
       " 1904,\n",
       " 1908,\n",
       " 1912,\n",
       " 1920,\n",
       " 1924,\n",
       " 1928,\n",
       " 1932,\n",
       " 1936,\n",
       " 1944,\n",
       " 1948,\n",
       " 1952,\n",
       " 1956,\n",
       " 1960,\n",
       " 1964,\n",
       " 1968,\n",
       " 1972,\n",
       " 1976,\n",
       " 1980,\n",
       " 1984,\n",
       " 1988,\n",
       " 1992,\n",
       " 1996,\n",
       " 2000,\n",
       " 2004,\n",
       " 2008]"
      ]
     },
     "execution_count": 8,
     "metadata": {},
     "output_type": "execute_result"
    }
   ],
   "source": [
    "x_n = list(range(1896, 2009, 4))\n",
    "x_n.remove(1916)\n",
    "x_n.remove(1940)\n",
    "x_n"
   ]
  },
  {
   "cell_type": "code",
   "execution_count": 9,
   "id": "5fca6fdc",
   "metadata": {},
   "outputs": [
    {
     "data": {
      "text/plain": [
       "27"
      ]
     },
     "execution_count": 9,
     "metadata": {},
     "output_type": "execute_result"
    }
   ],
   "source": [
    "len(x_n)"
   ]
  },
  {
   "cell_type": "code",
   "execution_count": 13,
   "id": "8510d7de",
   "metadata": {},
   "outputs": [
    {
     "data": {
      "text/plain": [
       "array([12.  , 11.  , 11.  , 11.  , 10.8 , 10.8 , 10.8 , 10.6 , 10.8 ,\n",
       "       10.3 , 10.3 , 10.3 , 10.4 , 10.5 , 10.2 , 10.  ,  9.95, 10.14,\n",
       "       10.06, 10.25,  9.99,  9.92,  9.96,  9.84,  9.87,  9.85,  9.69])"
      ]
     },
     "execution_count": 13,
     "metadata": {},
     "output_type": "execute_result"
    }
   ],
   "source": [
    "t_n = np.array([12.00,11.00,11.00,11.00,10.80 ,10.80 ,10.80 ,10.60 ,10.80,10.30,10.30,10.30,10.40,10.50,10.20,10.00,9.95,10.14,10.06,10.25, 9.99 ,9.92 ,9.96, 9.84,9.87,9.85 ,9.69])\n",
    "t_n"
   ]
  },
  {
   "cell_type": "code",
   "execution_count": 11,
   "id": "5040eb44",
   "metadata": {},
   "outputs": [
    {
     "data": {
      "text/plain": [
       "27"
      ]
     },
     "execution_count": 11,
     "metadata": {},
     "output_type": "execute_result"
    }
   ],
   "source": [
    "len(t_n)"
   ]
  },
  {
   "cell_type": "code",
   "execution_count": 20,
   "id": "2560c701",
   "metadata": {},
   "outputs": [
    {
     "data": {
      "text/html": [
       "<div>\n",
       "<style scoped>\n",
       "    .dataframe tbody tr th:only-of-type {\n",
       "        vertical-align: middle;\n",
       "    }\n",
       "\n",
       "    .dataframe tbody tr th {\n",
       "        vertical-align: top;\n",
       "    }\n",
       "\n",
       "    .dataframe thead th {\n",
       "        text-align: right;\n",
       "    }\n",
       "</style>\n",
       "<table border=\"1\" class=\"dataframe\">\n",
       "  <thead>\n",
       "    <tr style=\"text-align: right;\">\n",
       "      <th></th>\n",
       "      <th>0</th>\n",
       "    </tr>\n",
       "  </thead>\n",
       "  <tbody>\n",
       "    <tr>\n",
       "      <th>12.00</th>\n",
       "      <td>1896</td>\n",
       "    </tr>\n",
       "    <tr>\n",
       "      <th>11.00</th>\n",
       "      <td>1900</td>\n",
       "    </tr>\n",
       "    <tr>\n",
       "      <th>11.00</th>\n",
       "      <td>1904</td>\n",
       "    </tr>\n",
       "    <tr>\n",
       "      <th>11.00</th>\n",
       "      <td>1908</td>\n",
       "    </tr>\n",
       "    <tr>\n",
       "      <th>10.80</th>\n",
       "      <td>1912</td>\n",
       "    </tr>\n",
       "    <tr>\n",
       "      <th>10.80</th>\n",
       "      <td>1920</td>\n",
       "    </tr>\n",
       "    <tr>\n",
       "      <th>10.80</th>\n",
       "      <td>1924</td>\n",
       "    </tr>\n",
       "    <tr>\n",
       "      <th>10.60</th>\n",
       "      <td>1928</td>\n",
       "    </tr>\n",
       "    <tr>\n",
       "      <th>10.80</th>\n",
       "      <td>1932</td>\n",
       "    </tr>\n",
       "    <tr>\n",
       "      <th>10.30</th>\n",
       "      <td>1936</td>\n",
       "    </tr>\n",
       "    <tr>\n",
       "      <th>10.30</th>\n",
       "      <td>1944</td>\n",
       "    </tr>\n",
       "    <tr>\n",
       "      <th>10.30</th>\n",
       "      <td>1948</td>\n",
       "    </tr>\n",
       "    <tr>\n",
       "      <th>10.40</th>\n",
       "      <td>1952</td>\n",
       "    </tr>\n",
       "    <tr>\n",
       "      <th>10.50</th>\n",
       "      <td>1956</td>\n",
       "    </tr>\n",
       "    <tr>\n",
       "      <th>10.20</th>\n",
       "      <td>1960</td>\n",
       "    </tr>\n",
       "    <tr>\n",
       "      <th>10.00</th>\n",
       "      <td>1964</td>\n",
       "    </tr>\n",
       "    <tr>\n",
       "      <th>9.95</th>\n",
       "      <td>1968</td>\n",
       "    </tr>\n",
       "    <tr>\n",
       "      <th>10.14</th>\n",
       "      <td>1972</td>\n",
       "    </tr>\n",
       "    <tr>\n",
       "      <th>10.06</th>\n",
       "      <td>1976</td>\n",
       "    </tr>\n",
       "    <tr>\n",
       "      <th>10.25</th>\n",
       "      <td>1980</td>\n",
       "    </tr>\n",
       "    <tr>\n",
       "      <th>9.99</th>\n",
       "      <td>1984</td>\n",
       "    </tr>\n",
       "    <tr>\n",
       "      <th>9.92</th>\n",
       "      <td>1988</td>\n",
       "    </tr>\n",
       "    <tr>\n",
       "      <th>9.96</th>\n",
       "      <td>1992</td>\n",
       "    </tr>\n",
       "    <tr>\n",
       "      <th>9.84</th>\n",
       "      <td>1996</td>\n",
       "    </tr>\n",
       "    <tr>\n",
       "      <th>9.87</th>\n",
       "      <td>2000</td>\n",
       "    </tr>\n",
       "    <tr>\n",
       "      <th>9.85</th>\n",
       "      <td>2004</td>\n",
       "    </tr>\n",
       "    <tr>\n",
       "      <th>9.69</th>\n",
       "      <td>2008</td>\n",
       "    </tr>\n",
       "  </tbody>\n",
       "</table>\n",
       "</div>"
      ],
      "text/plain": [
       "          0\n",
       "12.00  1896\n",
       "11.00  1900\n",
       "11.00  1904\n",
       "11.00  1908\n",
       "10.80  1912\n",
       "10.80  1920\n",
       "10.80  1924\n",
       "10.60  1928\n",
       "10.80  1932\n",
       "10.30  1936\n",
       "10.30  1944\n",
       "10.30  1948\n",
       "10.40  1952\n",
       "10.50  1956\n",
       "10.20  1960\n",
       "10.00  1964\n",
       "9.95   1968\n",
       "10.14  1972\n",
       "10.06  1976\n",
       "10.25  1980\n",
       "9.99   1984\n",
       "9.92   1988\n",
       "9.96   1992\n",
       "9.84   1996\n",
       "9.87   2000\n",
       "9.85   2004\n",
       "9.69   2008"
      ]
     },
     "execution_count": 20,
     "metadata": {},
     "output_type": "execute_result"
    }
   ],
   "source": [
    "df = pd.DataFrame(x_n,t_n)\n",
    "df"
   ]
  },
  {
   "cell_type": "code",
   "execution_count": 23,
   "id": "47200e3d",
   "metadata": {},
   "outputs": [
    {
     "data": {
      "text/html": [
       "<div>\n",
       "<style scoped>\n",
       "    .dataframe tbody tr th:only-of-type {\n",
       "        vertical-align: middle;\n",
       "    }\n",
       "\n",
       "    .dataframe tbody tr th {\n",
       "        vertical-align: top;\n",
       "    }\n",
       "\n",
       "    .dataframe thead th {\n",
       "        text-align: right;\n",
       "    }\n",
       "</style>\n",
       "<table border=\"1\" class=\"dataframe\">\n",
       "  <thead>\n",
       "    <tr style=\"text-align: right;\">\n",
       "      <th></th>\n",
       "      <th>x_n</th>\n",
       "      <th>t_n</th>\n",
       "      <th>x_nt_n</th>\n",
       "      <th>x_n2</th>\n",
       "    </tr>\n",
       "  </thead>\n",
       "  <tbody>\n",
       "    <tr>\n",
       "      <th>0</th>\n",
       "      <td>1896</td>\n",
       "      <td>12.00</td>\n",
       "      <td>22752.00</td>\n",
       "      <td>3594816</td>\n",
       "    </tr>\n",
       "    <tr>\n",
       "      <th>1</th>\n",
       "      <td>1900</td>\n",
       "      <td>11.00</td>\n",
       "      <td>20900.00</td>\n",
       "      <td>3610000</td>\n",
       "    </tr>\n",
       "    <tr>\n",
       "      <th>2</th>\n",
       "      <td>1904</td>\n",
       "      <td>11.00</td>\n",
       "      <td>20944.00</td>\n",
       "      <td>3625216</td>\n",
       "    </tr>\n",
       "    <tr>\n",
       "      <th>3</th>\n",
       "      <td>1908</td>\n",
       "      <td>11.00</td>\n",
       "      <td>20988.00</td>\n",
       "      <td>3640464</td>\n",
       "    </tr>\n",
       "    <tr>\n",
       "      <th>4</th>\n",
       "      <td>1912</td>\n",
       "      <td>10.80</td>\n",
       "      <td>20649.60</td>\n",
       "      <td>3655744</td>\n",
       "    </tr>\n",
       "    <tr>\n",
       "      <th>5</th>\n",
       "      <td>1920</td>\n",
       "      <td>10.80</td>\n",
       "      <td>20736.00</td>\n",
       "      <td>3686400</td>\n",
       "    </tr>\n",
       "    <tr>\n",
       "      <th>6</th>\n",
       "      <td>1924</td>\n",
       "      <td>10.80</td>\n",
       "      <td>20779.20</td>\n",
       "      <td>3701776</td>\n",
       "    </tr>\n",
       "    <tr>\n",
       "      <th>7</th>\n",
       "      <td>1928</td>\n",
       "      <td>10.60</td>\n",
       "      <td>20436.80</td>\n",
       "      <td>3717184</td>\n",
       "    </tr>\n",
       "    <tr>\n",
       "      <th>8</th>\n",
       "      <td>1932</td>\n",
       "      <td>10.80</td>\n",
       "      <td>20865.60</td>\n",
       "      <td>3732624</td>\n",
       "    </tr>\n",
       "    <tr>\n",
       "      <th>9</th>\n",
       "      <td>1936</td>\n",
       "      <td>10.30</td>\n",
       "      <td>19940.80</td>\n",
       "      <td>3748096</td>\n",
       "    </tr>\n",
       "    <tr>\n",
       "      <th>10</th>\n",
       "      <td>1944</td>\n",
       "      <td>10.30</td>\n",
       "      <td>20023.20</td>\n",
       "      <td>3779136</td>\n",
       "    </tr>\n",
       "    <tr>\n",
       "      <th>11</th>\n",
       "      <td>1948</td>\n",
       "      <td>10.30</td>\n",
       "      <td>20064.40</td>\n",
       "      <td>3794704</td>\n",
       "    </tr>\n",
       "    <tr>\n",
       "      <th>12</th>\n",
       "      <td>1952</td>\n",
       "      <td>10.40</td>\n",
       "      <td>20300.80</td>\n",
       "      <td>3810304</td>\n",
       "    </tr>\n",
       "    <tr>\n",
       "      <th>13</th>\n",
       "      <td>1956</td>\n",
       "      <td>10.50</td>\n",
       "      <td>20538.00</td>\n",
       "      <td>3825936</td>\n",
       "    </tr>\n",
       "    <tr>\n",
       "      <th>14</th>\n",
       "      <td>1960</td>\n",
       "      <td>10.20</td>\n",
       "      <td>19992.00</td>\n",
       "      <td>3841600</td>\n",
       "    </tr>\n",
       "    <tr>\n",
       "      <th>15</th>\n",
       "      <td>1964</td>\n",
       "      <td>10.00</td>\n",
       "      <td>19640.00</td>\n",
       "      <td>3857296</td>\n",
       "    </tr>\n",
       "    <tr>\n",
       "      <th>16</th>\n",
       "      <td>1968</td>\n",
       "      <td>9.95</td>\n",
       "      <td>19581.60</td>\n",
       "      <td>3873024</td>\n",
       "    </tr>\n",
       "    <tr>\n",
       "      <th>17</th>\n",
       "      <td>1972</td>\n",
       "      <td>10.14</td>\n",
       "      <td>19996.08</td>\n",
       "      <td>3888784</td>\n",
       "    </tr>\n",
       "    <tr>\n",
       "      <th>18</th>\n",
       "      <td>1976</td>\n",
       "      <td>10.06</td>\n",
       "      <td>19878.56</td>\n",
       "      <td>3904576</td>\n",
       "    </tr>\n",
       "    <tr>\n",
       "      <th>19</th>\n",
       "      <td>1980</td>\n",
       "      <td>10.25</td>\n",
       "      <td>20295.00</td>\n",
       "      <td>3920400</td>\n",
       "    </tr>\n",
       "    <tr>\n",
       "      <th>20</th>\n",
       "      <td>1984</td>\n",
       "      <td>9.99</td>\n",
       "      <td>19820.16</td>\n",
       "      <td>3936256</td>\n",
       "    </tr>\n",
       "    <tr>\n",
       "      <th>21</th>\n",
       "      <td>1988</td>\n",
       "      <td>9.92</td>\n",
       "      <td>19720.96</td>\n",
       "      <td>3952144</td>\n",
       "    </tr>\n",
       "    <tr>\n",
       "      <th>22</th>\n",
       "      <td>1992</td>\n",
       "      <td>9.96</td>\n",
       "      <td>19840.32</td>\n",
       "      <td>3968064</td>\n",
       "    </tr>\n",
       "    <tr>\n",
       "      <th>23</th>\n",
       "      <td>1996</td>\n",
       "      <td>9.84</td>\n",
       "      <td>19640.64</td>\n",
       "      <td>3984016</td>\n",
       "    </tr>\n",
       "    <tr>\n",
       "      <th>24</th>\n",
       "      <td>2000</td>\n",
       "      <td>9.87</td>\n",
       "      <td>19740.00</td>\n",
       "      <td>4000000</td>\n",
       "    </tr>\n",
       "    <tr>\n",
       "      <th>25</th>\n",
       "      <td>2004</td>\n",
       "      <td>9.85</td>\n",
       "      <td>19739.40</td>\n",
       "      <td>4016016</td>\n",
       "    </tr>\n",
       "    <tr>\n",
       "      <th>26</th>\n",
       "      <td>2008</td>\n",
       "      <td>9.69</td>\n",
       "      <td>19457.52</td>\n",
       "      <td>4032064</td>\n",
       "    </tr>\n",
       "  </tbody>\n",
       "</table>\n",
       "</div>"
      ],
      "text/plain": [
       "     x_n    t_n    x_nt_n     x_n2\n",
       "0   1896  12.00  22752.00  3594816\n",
       "1   1900  11.00  20900.00  3610000\n",
       "2   1904  11.00  20944.00  3625216\n",
       "3   1908  11.00  20988.00  3640464\n",
       "4   1912  10.80  20649.60  3655744\n",
       "5   1920  10.80  20736.00  3686400\n",
       "6   1924  10.80  20779.20  3701776\n",
       "7   1928  10.60  20436.80  3717184\n",
       "8   1932  10.80  20865.60  3732624\n",
       "9   1936  10.30  19940.80  3748096\n",
       "10  1944  10.30  20023.20  3779136\n",
       "11  1948  10.30  20064.40  3794704\n",
       "12  1952  10.40  20300.80  3810304\n",
       "13  1956  10.50  20538.00  3825936\n",
       "14  1960  10.20  19992.00  3841600\n",
       "15  1964  10.00  19640.00  3857296\n",
       "16  1968   9.95  19581.60  3873024\n",
       "17  1972  10.14  19996.08  3888784\n",
       "18  1976  10.06  19878.56  3904576\n",
       "19  1980  10.25  20295.00  3920400\n",
       "20  1984   9.99  19820.16  3936256\n",
       "21  1988   9.92  19720.96  3952144\n",
       "22  1992   9.96  19840.32  3968064\n",
       "23  1996   9.84  19640.64  3984016\n",
       "24  2000   9.87  19740.00  4000000\n",
       "25  2004   9.85  19739.40  4016016\n",
       "26  2008   9.69  19457.52  4032064"
      ]
     },
     "execution_count": 23,
     "metadata": {},
     "output_type": "execute_result"
    }
   ],
   "source": [
    "# Dictionary of our data set\n",
    "\n",
    "data = {\n",
    "      'x_n':x_n,\n",
    "       't_n':t_n,\n",
    "       'x_nt_n': [x * t for x, t in zip(x_n, t_n)],\n",
    "     'x_n2': [x ** 2 for x in x_n]\n",
    "}\n",
    "data = pd.DataFrame(data)\n",
    "data"
   ]
  },
  {
   "cell_type": "markdown",
   "id": "557ce2bb",
   "metadata": {},
   "source": [
    "## Verifying Manually"
   ]
  },
  {
   "cell_type": "code",
   "execution_count": 56,
   "id": "7e1bf78e",
   "metadata": {},
   "outputs": [
    {
     "data": {
      "text/plain": [
       "x_n       1.953778e+03\n",
       "t_n       1.038222e+01\n",
       "x_nt_n    2.026891e+04\n",
       "x_n2      3.818394e+06\n",
       "dtype: float64"
      ]
     },
     "execution_count": 56,
     "metadata": {},
     "output_type": "execute_result"
    }
   ],
   "source": [
    "# mean of the columns\n",
    "data.mean()                                          "
   ]
  },
  {
   "cell_type": "code",
   "execution_count": 57,
   "id": "f06a5416",
   "metadata": {},
   "outputs": [
    {
     "data": {
      "text/plain": [
       "-0.01365575061804241"
      ]
     },
     "execution_count": 57,
     "metadata": {},
     "output_type": "execute_result"
    }
   ],
   "source": [
    "# w_1\n",
    "w_1 = ((2.026891e+04) - (1.953778e+03)*(1.038222e+01))/(( 3.818394e+06)-(1.953778e+03**2))\n",
    "w_1"
   ]
  },
  {
   "cell_type": "code",
   "execution_count": 59,
   "id": "35c29a3a",
   "metadata": {},
   "outputs": [
    {
     "data": {
      "text/plain": [
       "37.062525131017665"
      ]
     },
     "execution_count": 59,
     "metadata": {},
     "output_type": "execute_result"
    }
   ],
   "source": [
    "# w_0\n",
    "w_0 = (1.038222e+01) - (w_1 * (1.953778e+03))\n",
    "w_0"
   ]
  },
  {
   "cell_type": "code",
   "execution_count": null,
   "id": "be917c48",
   "metadata": {},
   "outputs": [],
   "source": [
    "Hence f(x; w0, w1) = 37.062525131017665 − 0.01365575061804241x which is almost approximate to equation 1.11"
   ]
  },
  {
   "cell_type": "markdown",
   "id": "5ae3b84b",
   "metadata": {},
   "source": [
    "## Run  models to verify equation 1.11"
   ]
  },
  {
   "cell_type": "code",
   "execution_count": 45,
   "id": "9ecc3f4e",
   "metadata": {},
   "outputs": [
    {
     "data": {
      "image/png": "[encoded data removed]",
      "text/plain": [
       "<Figure size 500x500 with 1 Axes>"
      ]
     },
     "metadata": {},
     "output_type": "display_data"
    }
   ],
   "source": [
    "## scatterplot\n",
    "sns.lmplot(x=\"x_n\", y=\"t_n\", data=data);"
   ]
  },
  {
   "cell_type": "code",
   "execution_count": 46,
   "id": "d9fa33ac",
   "metadata": {},
   "outputs": [
    {
     "name": "stdout",
     "output_type": "stream",
     "text": [
      "                            OLS Regression Results                            \n",
      "==============================================================================\n",
      "Dep. Variable:                    t_n   R-squared:                       0.829\n",
      "Model:                            OLS   Adj. R-squared:                  0.822\n",
      "Method:                 Least Squares   F-statistic:                     121.0\n",
      "Date:                Mon, 22 May 2023   Prob (F-statistic):           4.52e-11\n",
      "Time:                        11:39:48   Log-Likelihood:                 3.8301\n",
      "No. Observations:                  27   AIC:                            -3.660\n",
      "Df Residuals:                      25   BIC:                            -1.069\n",
      "Df Model:                           1                                         \n",
      "Covariance Type:            nonrobust                                         \n",
      "==============================================================================\n",
      "                 coef    std err          t      P>|t|      [0.025      0.975]\n",
      "------------------------------------------------------------------------------\n",
      "const         37.0396      2.424     15.283      0.000      32.048      42.031\n",
      "x_n           -0.0136      0.001    -11.001      0.000      -0.016      -0.011\n",
      "==============================================================================\n",
      "Omnibus:                       28.447   Durbin-Watson:                   1.310\n",
      "Prob(Omnibus):                  0.000   Jarque-Bera (JB):               66.358\n",
      "Skew:                           2.035   Prob(JB):                     3.89e-15\n",
      "Kurtosis:                       9.514   Cond. No.                     1.13e+05\n",
      "==============================================================================\n",
      "\n",
      "Notes:\n",
      "[1] Standard Errors assume that the covariance matrix of the errors is correctly specified.\n",
      "[2] The condition number is large, 1.13e+05. This might indicate that there are\n",
      "strong multicollinearity or other numerical problems.\n"
     ]
    }
   ],
   "source": [
    "#  response variable\n",
    "y = data['t_n']\n",
    "\n",
    "#  explanatory variable\n",
    "x =  data[['x_n']]\n",
    "\n",
    "# add constant to predictor variables\n",
    "x = sm.add_constant(x)\n",
    "\n",
    "# fit linear regression model\n",
    "model = sm.OLS(y, x).fit()\n",
    "\n",
    "# our model summary\n",
    "print(model.summary())"
   ]
  },
  {
   "cell_type": "markdown",
   "id": "e0dd038b",
   "metadata": {},
   "source": [
    "w_1 = -0.0136 and w_0 = 37.0396 hence f(x; w0, w1) = 37.0396 − -0.0136x which is approximate the equation 1.11"
   ]
  },
  {
   "cell_type": "code",
   "execution_count": null,
   "id": "76a21d56",
   "metadata": {},
   "outputs": [],
   "source": []
  }
 ],
 "metadata": {
  "kernelspec": {
   "display_name": "Python 3 (ipykernel)",
   "language": "python",
   "name": "python3"
  },
  "language_info": {
   "codemirror_mode": {
    "name": "ipython",
    "version": 3
   },
   "file_extension": ".py",
   "mimetype": "text/x-python",
   "name": "python",
   "nbconvert_exporter": "python",
   "pygments_lexer": "ipython3",
   "version": "3.9.12"
  }
 },
 "nbformat": 4,
 "nbformat_minor": 5
}
