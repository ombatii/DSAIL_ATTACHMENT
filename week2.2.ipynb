{
 "cells": [
  {
   "cell_type": "markdown",
   "id": "81428e4d",
   "metadata": {},
   "source": [
    "# 5. Iteration"
   ]
  },
  {
   "cell_type": "markdown",
   "id": "84c3ff21",
   "metadata": {},
   "source": [
    "In this exercise you will create a program that computes the average of a collection of values entered by the user. The user will enter 0 as a sentinel value to indicate that no further values will be provided. Your program should display an appropriate error message if the first value entered by the user is 0"
   ]
  },
  {
   "cell_type": "code",
   "execution_count": 10,
   "id": "62fbb846",
   "metadata": {},
   "outputs": [
    {
     "name": "stdout",
     "output_type": "stream",
     "text": [
      "Enter a number: 0\n",
      "Error(NOTE:The first number cannot be 0)\n",
      "Enter a number: 9\n",
      "Enter a number: 10\n",
      "Enter a number: 789\n",
      "Enter a number: 0\n",
      "Total of the numbers entered: 808.0\n",
      "Average of the numbers entered: 269.3333333333333\n"
     ]
    }
   ],
   "source": [
    "# initialize count, total, and average\n",
    "count = 0\n",
    "total = 0\n",
    "average = 0\n",
    "\n",
    "# get the numbers from the user\n",
    "while True:\n",
    "    number = float(input(\"Enter a number: \"))\n",
    "\n",
    "    # Check if the first number entered is 0\n",
    "    if count == 0 and number == 0:\n",
    "        print(\"Error(NOTE:The first number cannot be 0)\")\n",
    "        continue\n",
    "\n",
    "    # Exit the loop if the user enters 0\n",
    "    if number == 0:\n",
    "        break\n",
    "\n",
    "    # increment both count and total\n",
    "    count += 1\n",
    "    total += number\n",
    "\n",
    "# calculating average if count is greater than 0\n",
    "if count > 0:\n",
    "    average = total / count\n",
    "\n",
    "# display  total, and average\n",
    "\n",
    "print(f\"Total of the numbers entered: {total}\")\n",
    "print(f\"Average of the numbers entered: {average}\")"
   ]
  },
  {
   "cell_type": "markdown",
   "id": "f9d772b7",
   "metadata": {},
   "source": [
    "Write a program that displays a temperature conversion table for degrees Celsius and\n",
    "degrees Fahrenheit. The table should include rows for all temperatures between 0\n",
    "and 100 degrees Celsius that are multiples of 10 degrees Celsius. Include appropriate\n",
    "headings on your columns. The formula for converting between degrees Celsius and\n",
    "degrees Fahrenheit can be found on the internet."
   ]
  },
  {
   "cell_type": "code",
   "execution_count": 30,
   "id": "ecb2ebfd",
   "metadata": {},
   "outputs": [
    {
     "data": {
      "text/html": [
       "<div>\n",
       "<style scoped>\n",
       "    .dataframe tbody tr th:only-of-type {\n",
       "        vertical-align: middle;\n",
       "    }\n",
       "\n",
       "    .dataframe tbody tr th {\n",
       "        vertical-align: top;\n",
       "    }\n",
       "\n",
       "    .dataframe thead th {\n",
       "        text-align: right;\n",
       "    }\n",
       "</style>\n",
       "<table border=\"1\" class=\"dataframe\">\n",
       "  <thead>\n",
       "    <tr style=\"text-align: right;\">\n",
       "      <th></th>\n",
       "      <th>Degrees</th>\n",
       "      <th>Fahrenheit</th>\n",
       "    </tr>\n",
       "  </thead>\n",
       "  <tbody>\n",
       "    <tr>\n",
       "      <th>0</th>\n",
       "      <td>0</td>\n",
       "      <td>32.0</td>\n",
       "    </tr>\n",
       "    <tr>\n",
       "      <th>1</th>\n",
       "      <td>10</td>\n",
       "      <td>50.0</td>\n",
       "    </tr>\n",
       "    <tr>\n",
       "      <th>2</th>\n",
       "      <td>20</td>\n",
       "      <td>68.0</td>\n",
       "    </tr>\n",
       "    <tr>\n",
       "      <th>3</th>\n",
       "      <td>30</td>\n",
       "      <td>86.0</td>\n",
       "    </tr>\n",
       "    <tr>\n",
       "      <th>4</th>\n",
       "      <td>40</td>\n",
       "      <td>104.0</td>\n",
       "    </tr>\n",
       "    <tr>\n",
       "      <th>5</th>\n",
       "      <td>50</td>\n",
       "      <td>122.0</td>\n",
       "    </tr>\n",
       "    <tr>\n",
       "      <th>6</th>\n",
       "      <td>60</td>\n",
       "      <td>140.0</td>\n",
       "    </tr>\n",
       "    <tr>\n",
       "      <th>7</th>\n",
       "      <td>70</td>\n",
       "      <td>158.0</td>\n",
       "    </tr>\n",
       "    <tr>\n",
       "      <th>8</th>\n",
       "      <td>80</td>\n",
       "      <td>176.0</td>\n",
       "    </tr>\n",
       "    <tr>\n",
       "      <th>9</th>\n",
       "      <td>90</td>\n",
       "      <td>194.0</td>\n",
       "    </tr>\n",
       "    <tr>\n",
       "      <th>10</th>\n",
       "      <td>100</td>\n",
       "      <td>212.0</td>\n",
       "    </tr>\n",
       "  </tbody>\n",
       "</table>\n",
       "</div>"
      ],
      "text/plain": [
       "    Degrees  Fahrenheit\n",
       "0         0        32.0\n",
       "1        10        50.0\n",
       "2        20        68.0\n",
       "3        30        86.0\n",
       "4        40       104.0\n",
       "5        50       122.0\n",
       "6        60       140.0\n",
       "7        70       158.0\n",
       "8        80       176.0\n",
       "9        90       194.0\n",
       "10      100       212.0"
      ]
     },
     "execution_count": 30,
     "metadata": {},
     "output_type": "execute_result"
    }
   ],
   "source": [
    "import pandas as pd\n",
    "\n",
    "# Create degrees \n",
    "degrees = list(range(0, 101, 10))\n",
    "# calculate Fahrenheit from degrees \n",
    "Fahrenheit = [(x * 9/5) + 32 for x in degrees]\n",
    "\n",
    "# create a pandas table with the two lists \n",
    "table = pd.DataFrame({'Degrees': degrees, 'Fahrenheit': Fahrenheit})\n",
    "table"
   ]
  },
  {
   "cell_type": "markdown",
   "id": "d97c1c67",
   "metadata": {},
   "source": [
    "Write a program that converts a binary (base 2) number to decimal (base 10). Your\n",
    "program should begin by reading the binary number from the user as a string. Then\n",
    "it should compute the equivalent decimal number by processing each digit in the\n",
    "binary number. Finally, your program should display the equivalent decimal number\n",
    "with an appropriate message."
   ]
  },
  {
   "cell_type": "code",
   "execution_count": 35,
   "id": "1f27b0ac",
   "metadata": {},
   "outputs": [
    {
     "name": "stdout",
     "output_type": "stream",
     "text": [
      "Enter the binary number: 1010\n",
      "The binary (base 2) number  to decimal (base 10) is: 10\n"
     ]
    }
   ],
   "source": [
    "# get input from the user\n",
    "binary = input(\"Enter the binary number: \")\n",
    "\n",
    "# initialize count and total\n",
    "count = 0\n",
    "total = 0\n",
    "\n",
    "# reverse the binary string so as  to iterate through the binary values correctly.\n",
    "binary = binary[::-1] \n",
    "\n",
    "# iterate through the binary digits\n",
    "for x in binary:\n",
    "    number = int(x) * (2 ** count)\n",
    "    count += 1\n",
    "    total += number\n",
    "\n",
    "# display decimal (base 10) number\n",
    "print(f\"The binary (base 2) number  to decimal (base 10) is: {total}\")"
   ]
  },
  {
   "cell_type": "markdown",
   "id": "1aaadbfe",
   "metadata": {},
   "source": [
    "In this exercise you will create a program that displays a multiplication table that\n",
    "shows the products of all combinations of integers from 1 times 1 up to and including\n",
    "10 times 10. Your multiplication table should include a row of labels across the top\n",
    "of it containing the numbers 1 through 10. It should also include labels down the left\n",
    "side consisting of the numbers 1 through 10."
   ]
  },
  {
   "cell_type": "code",
   "execution_count": 38,
   "id": "b956fa6a",
   "metadata": {},
   "outputs": [
    {
     "data": {
      "text/html": [
       "<div>\n",
       "<style scoped>\n",
       "    .dataframe tbody tr th:only-of-type {\n",
       "        vertical-align: middle;\n",
       "    }\n",
       "\n",
       "    .dataframe tbody tr th {\n",
       "        vertical-align: top;\n",
       "    }\n",
       "\n",
       "    .dataframe thead th {\n",
       "        text-align: right;\n",
       "    }\n",
       "</style>\n",
       "<table border=\"1\" class=\"dataframe\">\n",
       "  <thead>\n",
       "    <tr style=\"text-align: right;\">\n",
       "      <th></th>\n",
       "      <th>1</th>\n",
       "      <th>2</th>\n",
       "      <th>3</th>\n",
       "      <th>4</th>\n",
       "      <th>5</th>\n",
       "      <th>6</th>\n",
       "      <th>7</th>\n",
       "      <th>8</th>\n",
       "      <th>9</th>\n",
       "      <th>10</th>\n",
       "    </tr>\n",
       "  </thead>\n",
       "  <tbody>\n",
       "    <tr>\n",
       "      <th>1</th>\n",
       "      <td>1</td>\n",
       "      <td>2</td>\n",
       "      <td>3</td>\n",
       "      <td>4</td>\n",
       "      <td>5</td>\n",
       "      <td>6</td>\n",
       "      <td>7</td>\n",
       "      <td>8</td>\n",
       "      <td>9</td>\n",
       "      <td>10</td>\n",
       "    </tr>\n",
       "    <tr>\n",
       "      <th>2</th>\n",
       "      <td>2</td>\n",
       "      <td>4</td>\n",
       "      <td>6</td>\n",
       "      <td>8</td>\n",
       "      <td>10</td>\n",
       "      <td>12</td>\n",
       "      <td>14</td>\n",
       "      <td>16</td>\n",
       "      <td>18</td>\n",
       "      <td>20</td>\n",
       "    </tr>\n",
       "    <tr>\n",
       "      <th>3</th>\n",
       "      <td>3</td>\n",
       "      <td>6</td>\n",
       "      <td>9</td>\n",
       "      <td>12</td>\n",
       "      <td>15</td>\n",
       "      <td>18</td>\n",
       "      <td>21</td>\n",
       "      <td>24</td>\n",
       "      <td>27</td>\n",
       "      <td>30</td>\n",
       "    </tr>\n",
       "    <tr>\n",
       "      <th>4</th>\n",
       "      <td>4</td>\n",
       "      <td>8</td>\n",
       "      <td>12</td>\n",
       "      <td>16</td>\n",
       "      <td>20</td>\n",
       "      <td>24</td>\n",
       "      <td>28</td>\n",
       "      <td>32</td>\n",
       "      <td>36</td>\n",
       "      <td>40</td>\n",
       "    </tr>\n",
       "    <tr>\n",
       "      <th>5</th>\n",
       "      <td>5</td>\n",
       "      <td>10</td>\n",
       "      <td>15</td>\n",
       "      <td>20</td>\n",
       "      <td>25</td>\n",
       "      <td>30</td>\n",
       "      <td>35</td>\n",
       "      <td>40</td>\n",
       "      <td>45</td>\n",
       "      <td>50</td>\n",
       "    </tr>\n",
       "    <tr>\n",
       "      <th>6</th>\n",
       "      <td>6</td>\n",
       "      <td>12</td>\n",
       "      <td>18</td>\n",
       "      <td>24</td>\n",
       "      <td>30</td>\n",
       "      <td>36</td>\n",
       "      <td>42</td>\n",
       "      <td>48</td>\n",
       "      <td>54</td>\n",
       "      <td>60</td>\n",
       "    </tr>\n",
       "    <tr>\n",
       "      <th>7</th>\n",
       "      <td>7</td>\n",
       "      <td>14</td>\n",
       "      <td>21</td>\n",
       "      <td>28</td>\n",
       "      <td>35</td>\n",
       "      <td>42</td>\n",
       "      <td>49</td>\n",
       "      <td>56</td>\n",
       "      <td>63</td>\n",
       "      <td>70</td>\n",
       "    </tr>\n",
       "    <tr>\n",
       "      <th>8</th>\n",
       "      <td>8</td>\n",
       "      <td>16</td>\n",
       "      <td>24</td>\n",
       "      <td>32</td>\n",
       "      <td>40</td>\n",
       "      <td>48</td>\n",
       "      <td>56</td>\n",
       "      <td>64</td>\n",
       "      <td>72</td>\n",
       "      <td>80</td>\n",
       "    </tr>\n",
       "    <tr>\n",
       "      <th>9</th>\n",
       "      <td>9</td>\n",
       "      <td>18</td>\n",
       "      <td>27</td>\n",
       "      <td>36</td>\n",
       "      <td>45</td>\n",
       "      <td>54</td>\n",
       "      <td>63</td>\n",
       "      <td>72</td>\n",
       "      <td>81</td>\n",
       "      <td>90</td>\n",
       "    </tr>\n",
       "    <tr>\n",
       "      <th>10</th>\n",
       "      <td>10</td>\n",
       "      <td>20</td>\n",
       "      <td>30</td>\n",
       "      <td>40</td>\n",
       "      <td>50</td>\n",
       "      <td>60</td>\n",
       "      <td>70</td>\n",
       "      <td>80</td>\n",
       "      <td>90</td>\n",
       "      <td>100</td>\n",
       "    </tr>\n",
       "  </tbody>\n",
       "</table>\n",
       "</div>"
      ],
      "text/plain": [
       "    1   2   3   4   5   6   7   8   9    10\n",
       "1    1   2   3   4   5   6   7   8   9   10\n",
       "2    2   4   6   8  10  12  14  16  18   20\n",
       "3    3   6   9  12  15  18  21  24  27   30\n",
       "4    4   8  12  16  20  24  28  32  36   40\n",
       "5    5  10  15  20  25  30  35  40  45   50\n",
       "6    6  12  18  24  30  36  42  48  54   60\n",
       "7    7  14  21  28  35  42  49  56  63   70\n",
       "8    8  16  24  32  40  48  56  64  72   80\n",
       "9    9  18  27  36  45  54  63  72  81   90\n",
       "10  10  20  30  40  50  60  70  80  90  100"
      ]
     },
     "execution_count": 38,
     "metadata": {},
     "output_type": "execute_result"
    }
   ],
   "source": [
    "import pandas as pd\n",
    "\n",
    "# Create an empty DataFrame with row and column labels\n",
    "table = pd.DataFrame(index=range(1, 11), columns=range(1, 11))\n",
    "\n",
    "# Fill the DataFrame with multiplication values\n",
    "# nested loops\n",
    "for x in range(1, 11):\n",
    "    for y in range(1, 11):\n",
    "        table.at[x, y] = x * y #In each cell calculate the product of the corresponding row(x) and column(y) labels\n",
    "\n",
    "# Display the multiplication table\n",
    "table "
   ]
  },
  {
   "cell_type": "markdown",
   "id": "50606dd8",
   "metadata": {},
   "source": [
    "# 6. Strings"
   ]
  },
  {
   "cell_type": "markdown",
   "id": "44754c2b",
   "metadata": {},
   "source": [
    "## case 1"
   ]
  },
  {
   "cell_type": "code",
   "execution_count": 40,
   "id": "0c6a1819",
   "metadata": {},
   "outputs": [
    {
     "data": {
      "text/plain": [
       "'In deep learning, these layered representations are (almost always) learned via models called neural networks , structured in literal layers stacked one after the other.'"
      ]
     },
     "execution_count": 40,
     "metadata": {},
     "output_type": "execute_result"
    }
   ],
   "source": [
    "sentense_1 = ('In deep learning, these layered representations are (almost always) learned via models called neural networks , structured in literal layers stacked one after the other.')\n",
    "sentense_1"
   ]
  },
  {
   "cell_type": "code",
   "execution_count": 41,
   "id": "48436d08",
   "metadata": {},
   "outputs": [
    {
     "data": {
      "text/plain": [
       "169"
      ]
     },
     "execution_count": 41,
     "metadata": {},
     "output_type": "execute_result"
    }
   ],
   "source": [
    "# number of characters\n",
    "len(sentense_1)"
   ]
  },
  {
   "cell_type": "code",
   "execution_count": 42,
   "id": "6ecd1a0b",
   "metadata": {},
   "outputs": [
    {
     "data": {
      "text/plain": [
       "'I'"
      ]
     },
     "execution_count": 42,
     "metadata": {},
     "output_type": "execute_result"
    }
   ],
   "source": [
    "# First character\n",
    "sentense_1[0]"
   ]
  },
  {
   "cell_type": "code",
   "execution_count": 45,
   "id": "eaf92c56",
   "metadata": {},
   "outputs": [
    {
     "data": {
      "text/plain": [
       "'.'"
      ]
     },
     "execution_count": 45,
     "metadata": {},
     "output_type": "execute_result"
    }
   ],
   "source": [
    "# last character\n",
    "x = len(sentense_1)-1\n",
    "sentense_1[x]"
   ]
  },
  {
   "cell_type": "code",
   "execution_count": 47,
   "id": "9e580815",
   "metadata": {},
   "outputs": [
    {
     "name": "stdout",
     "output_type": "stream",
     "text": [
      "I\n",
      "n\n",
      " \n",
      "d\n",
      "e\n",
      "e\n",
      "p\n",
      " \n",
      "l\n",
      "e\n",
      "a\n",
      "r\n",
      "n\n",
      "i\n",
      "n\n",
      "g\n",
      ",\n",
      " \n",
      "t\n",
      "h\n",
      "e\n",
      "s\n",
      "e\n",
      " \n",
      "l\n",
      "a\n",
      "y\n",
      "e\n",
      "r\n",
      "e\n",
      "d\n",
      " \n",
      "r\n",
      "e\n",
      "p\n",
      "r\n",
      "e\n",
      "s\n",
      "e\n",
      "n\n",
      "t\n",
      "a\n",
      "t\n",
      "i\n",
      "o\n",
      "n\n",
      "s\n",
      " \n",
      "a\n",
      "r\n",
      "e\n",
      " \n",
      "(\n",
      "a\n",
      "l\n",
      "m\n",
      "o\n",
      "s\n",
      "t\n",
      " \n",
      "a\n",
      "l\n",
      "w\n",
      "a\n",
      "y\n",
      "s\n",
      ")\n",
      " \n",
      "l\n",
      "e\n",
      "a\n",
      "r\n",
      "n\n",
      "e\n",
      "d\n",
      " \n",
      "v\n",
      "i\n",
      "a\n",
      " \n",
      "m\n",
      "o\n",
      "d\n",
      "e\n",
      "l\n",
      "s\n",
      " \n",
      "c\n",
      "a\n",
      "l\n",
      "l\n",
      "e\n",
      "d\n",
      " \n",
      "n\n",
      "e\n",
      "u\n",
      "r\n",
      "a\n",
      "l\n",
      " \n",
      "n\n",
      "e\n",
      "t\n",
      "w\n",
      "o\n",
      "r\n",
      "k\n",
      "s\n",
      " \n",
      ",\n",
      " \n",
      "s\n",
      "t\n",
      "r\n",
      "u\n",
      "c\n",
      "t\n",
      "u\n",
      "r\n",
      "e\n",
      "d\n",
      " \n",
      "i\n",
      "n\n",
      " \n",
      "l\n",
      "i\n",
      "t\n",
      "e\n",
      "r\n",
      "a\n",
      "l\n",
      " \n",
      "l\n",
      "a\n",
      "y\n",
      "e\n",
      "r\n",
      "s\n",
      " \n",
      "s\n",
      "t\n",
      "a\n",
      "c\n",
      "k\n",
      "e\n",
      "d\n",
      " \n",
      "o\n",
      "n\n",
      "e\n",
      " \n",
      "a\n",
      "f\n",
      "t\n",
      "e\n",
      "r\n",
      " \n",
      "t\n",
      "h\n",
      "e\n",
      " \n",
      "o\n",
      "t\n",
      "h\n",
      "e\n",
      "r\n",
      ".\n"
     ]
    }
   ],
   "source": [
    "# Traversal through the string \n",
    "index = 0\n",
    "while index < len(sentense_1):\n",
    "        character = sentense_1[index]\n",
    "        print(character)\n",
    "        index = index + 1"
   ]
  },
  {
   "cell_type": "code",
   "execution_count": 48,
   "id": "6806a3aa",
   "metadata": {},
   "outputs": [
    {
     "name": "stdout",
     "output_type": "stream",
     "text": [
      ".\n",
      "r\n",
      "e\n",
      "h\n",
      "t\n",
      "o\n",
      " \n",
      "e\n",
      "h\n",
      "t\n",
      " \n",
      "r\n",
      "e\n",
      "t\n",
      "f\n",
      "a\n",
      " \n",
      "e\n",
      "n\n",
      "o\n",
      " \n",
      "d\n",
      "e\n",
      "k\n",
      "c\n",
      "a\n",
      "t\n",
      "s\n",
      " \n",
      "s\n",
      "r\n",
      "e\n",
      "y\n",
      "a\n",
      "l\n",
      " \n",
      "l\n",
      "a\n",
      "r\n",
      "e\n",
      "t\n",
      "i\n",
      "l\n",
      " \n",
      "n\n",
      "i\n",
      " \n",
      "d\n",
      "e\n",
      "r\n",
      "u\n",
      "t\n",
      "c\n",
      "u\n",
      "r\n",
      "t\n",
      "s\n",
      " \n",
      ",\n",
      " \n",
      "s\n",
      "k\n",
      "r\n",
      "o\n",
      "w\n",
      "t\n",
      "e\n",
      "n\n",
      " \n",
      "l\n",
      "a\n",
      "r\n",
      "u\n",
      "e\n",
      "n\n",
      " \n",
      "d\n",
      "e\n",
      "l\n",
      "l\n",
      "a\n",
      "c\n",
      " \n",
      "s\n",
      "l\n",
      "e\n",
      "d\n",
      "o\n",
      "m\n",
      " \n",
      "a\n",
      "i\n",
      "v\n",
      " \n",
      "d\n",
      "e\n",
      "n\n",
      "r\n",
      "a\n",
      "e\n",
      "l\n",
      " \n",
      ")\n",
      "s\n",
      "y\n",
      "a\n",
      "w\n",
      "l\n",
      "a\n",
      " \n",
      "t\n",
      "s\n",
      "o\n",
      "m\n",
      "l\n",
      "a\n",
      "(\n",
      " \n",
      "e\n",
      "r\n",
      "a\n",
      " \n",
      "s\n",
      "n\n",
      "o\n",
      "i\n",
      "t\n",
      "a\n",
      "t\n",
      "n\n",
      "e\n",
      "s\n",
      "e\n",
      "r\n",
      "p\n",
      "e\n",
      "r\n",
      " \n",
      "d\n",
      "e\n",
      "r\n",
      "e\n",
      "y\n",
      "a\n",
      "l\n",
      " \n",
      "e\n",
      "s\n",
      "e\n",
      "h\n",
      "t\n",
      " \n",
      ",\n",
      "g\n",
      "n\n",
      "i\n",
      "n\n",
      "r\n",
      "a\n",
      "e\n",
      "l\n",
      " \n",
      "p\n",
      "e\n",
      "e\n",
      "d\n",
      " \n",
      "n\n",
      "I\n"
     ]
    }
   ],
   "source": [
    "# inverve of the Traversal through the string \n",
    "index = len(sentense_1) -1\n",
    "while index >= 0:\n",
    "        character = sentense_1[index]\n",
    "        print(character)\n",
    "        index = index - 1"
   ]
  },
  {
   "cell_type": "markdown",
   "id": "fc3b9f0c",
   "metadata": {},
   "source": [
    "## case 2"
   ]
  },
  {
   "cell_type": "code",
   "execution_count": 49,
   "id": "f77cf895",
   "metadata": {},
   "outputs": [
    {
     "data": {
      "text/plain": [
       "'Deep learning is a specific subfield of machine learning: a new take on learning representations from data that puts an emphasis on learning successive oflayersincreasingly meaningful representations.'"
      ]
     },
     "execution_count": 49,
     "metadata": {},
     "output_type": "execute_result"
    }
   ],
   "source": [
    "sentence_2 =\"Deep learning is a specific subfield of machine learning: a new take on learning representations from data that puts an emphasis on learning successive oflayersincreasingly meaningful representations.\"\n",
    "sentence_2"
   ]
  },
  {
   "cell_type": "code",
   "execution_count": 50,
   "id": "8cfbb6dd",
   "metadata": {},
   "outputs": [
    {
     "data": {
      "text/plain": [
       "'Deep learn'"
      ]
     },
     "execution_count": 50,
     "metadata": {},
     "output_type": "execute_result"
    }
   ],
   "source": [
    "# slice the first 10 letters\n",
    "sentence_2[:10]"
   ]
  },
  {
   "cell_type": "code",
   "execution_count": 53,
   "id": "c9140785",
   "metadata": {},
   "outputs": [
    {
     "data": {
      "text/plain": [
       "'entations.'"
      ]
     },
     "execution_count": 53,
     "metadata": {},
     "output_type": "execute_result"
    }
   ],
   "source": [
    "# slice the last 10 letters\n",
    "sentence_2[-10:]"
   ]
  },
  {
   "cell_type": "code",
   "execution_count": 54,
   "id": "a2f7dd73",
   "metadata": {},
   "outputs": [
    {
     "data": {
      "text/plain": [
       "'Deep learning is a specific subfield of machine learning: a new take on learning representations from data that puts an emphasis on learning successive oflayersincreasingly meaningful representations.'"
      ]
     },
     "execution_count": 54,
     "metadata": {},
     "output_type": "execute_result"
    }
   ],
   "source": [
    "# # slice the whole sentence\n",
    "sentence_2[:]"
   ]
  },
  {
   "cell_type": "markdown",
   "id": "b14154ed",
   "metadata": {},
   "source": [
    "## case 3"
   ]
  },
  {
   "cell_type": "code",
   "execution_count": 56,
   "id": "d01a32be",
   "metadata": {},
   "outputs": [
    {
     "data": {
      "text/plain": [
       "'Jeep learning is a specific subfield of machine learning: a new take on learning representations from data that puts an emphasis on learning successive oflayersincreasingly meaningful representations.'"
      ]
     },
     "execution_count": 56,
     "metadata": {},
     "output_type": "execute_result"
    }
   ],
   "source": [
    "# replace the first digit with \"j\"\n",
    "new_sentence_2 = 'J' + sentence_2[1:]\n",
    "new_sentence_2"
   ]
  },
  {
   "cell_type": "code",
   "execution_count": 57,
   "id": "804a2fee",
   "metadata": {},
   "outputs": [
    {
     "name": "stdout",
     "output_type": "stream",
     "text": [
      "Dmmp lmmrnmng ms m spmcmfmc smbfmmld mf mmchmnm lmmrnmng: m nmw tmkm mn lmmrnmng rmprmsmntmtmmns frmm dmtm thmt pmts mn mmphmsms mn lmmrnmng smccmssmvm mflmymrsmncrmmsmngly mmmnmngfml rmprmsmntmtmmns.\n"
     ]
    }
   ],
   "source": [
    "# Replace all vowels with 'm'\n",
    "new2_sentence_2 = sentence_2.replace('a', 'm').replace('e', 'm').replace('i', 'm').replace('o', 'm').replace('u', 'm')\n",
    "\n",
    "print(new2_sentence_2)"
   ]
  },
  {
   "cell_type": "code",
   "execution_count": 58,
   "id": "7aa41d61",
   "metadata": {},
   "outputs": [
    {
     "name": "stdout",
     "output_type": "stream",
     "text": [
      "Deep leerning is e specific subfield of mechine leerning: e new teke on leerning representetions from dete thet puts en emphesis on leerning successive ofleyersincreesingly meeningful representetions.\n"
     ]
    }
   ],
   "source": [
    "# Replace a with 'e'\n",
    "new3_sentence_2 = sentence_2.replace('a', 'e')\n",
    "\n",
    "print(new3_sentence_2)"
   ]
  },
  {
   "cell_type": "code",
   "execution_count": 59,
   "id": "7b82584e",
   "metadata": {},
   "outputs": [
    {
     "name": "stdout",
     "output_type": "stream",
     "text": [
      "Number of vowels in sentence_2: 68\n"
     ]
    }
   ],
   "source": [
    "# Count the number of vowels\n",
    "# define the vowel characters\n",
    "vowels = 'aeiouAEIOU'\n",
    "vowel_count = 0\n",
    "\n",
    "for char in sentence_2:\n",
    "    if char in vowels:\n",
    "        vowel_count += 1\n",
    "\n",
    "print(f\"Number of vowels in sentence_2: {vowel_count}\")"
   ]
  },
  {
   "cell_type": "markdown",
   "id": "d4ebba3d",
   "metadata": {},
   "source": [
    "## case 4"
   ]
  },
  {
   "cell_type": "code",
   "execution_count": 61,
   "id": "66a8960d",
   "metadata": {},
   "outputs": [
    {
     "data": {
      "text/plain": [
       "'DEEP LEARNING IS A SPECIFIC SUBFIELD OF MACHINE LEARNING: A NEW TAKE ON LEARNING REPRESENTATIONS FROM DATA THAT PUTS AN EMPHASIS ON LEARNING SUCCESSIVE OFLAYERSINCREASINGLY MEANINGFUL REPRESENTATIONS.'"
      ]
     },
     "execution_count": 61,
     "metadata": {},
     "output_type": "execute_result"
    }
   ],
   "source": [
    "# Capitalize every letter\n",
    "sentence_2.upper()"
   ]
  },
  {
   "cell_type": "code",
   "execution_count": 62,
   "id": "8cda559a",
   "metadata": {},
   "outputs": [
    {
     "data": {
      "text/plain": [
       "'deep learning is a specific subfield of machine learning: a new take on learning representations from data that puts an emphasis on learning successive oflayersincreasingly meaningful representations.'"
      ]
     },
     "execution_count": 62,
     "metadata": {},
     "output_type": "execute_result"
    }
   ],
   "source": [
    "# lowercase all letters\n",
    "sentence_2.lower()"
   ]
  },
  {
   "cell_type": "code",
   "execution_count": 63,
   "id": "e1f3e1db",
   "metadata": {},
   "outputs": [
    {
     "data": {
      "text/plain": [
       "'Deep Learning Is A Specific Subfield Of Machine Learning: A New Take On Learning Representations From Data That Puts An Emphasis On Learning Successive Oflayersincreasingly Meaningful Representations.'"
      ]
     },
     "execution_count": 63,
     "metadata": {},
     "output_type": "execute_result"
    }
   ],
   "source": [
    "# capitalize each letter in a word\n",
    "sentence_2.title()"
   ]
  },
  {
   "cell_type": "code",
   "execution_count": 69,
   "id": "adcd7bb0",
   "metadata": {},
   "outputs": [
    {
     "name": "stdout",
     "output_type": "stream",
     "text": [
      "Deep learning is a specific subfield of machine learning: a new take on learning representations from data that puts an emphasis on learning successive oflayersincreasingly meaningful representations.\n"
     ]
    }
   ],
   "source": [
    "# Using str.center(width[, fillchar])\n",
    "centered = sentence_2.center(100, \"*\")\n",
    "print(centered)"
   ]
  },
  {
   "cell_type": "code",
   "execution_count": 70,
   "id": "fb7a5db8",
   "metadata": {},
   "outputs": [
    {
     "name": "stdout",
     "output_type": "stream",
     "text": [
      "4\n"
     ]
    }
   ],
   "source": [
    "# Using str.count(sub[, start[, end]])\n",
    "count_m= sentence_2.count(\"m\")\n",
    "print(count_m)"
   ]
  },
  {
   "cell_type": "code",
   "execution_count": null,
   "id": "a68de36a",
   "metadata": {},
   "outputs": [],
   "source": []
  }
 ],
 "metadata": {
  "kernelspec": {
   "display_name": "Python 3 (ipykernel)",
   "language": "python",
   "name": "python3"
  },
  "language_info": {
   "codemirror_mode": {
    "name": "ipython",
    "version": 3
   },
   "file_extension": ".py",
   "mimetype": "text/x-python",
   "name": "python",
   "nbconvert_exporter": "python",
   "pygments_lexer": "ipython3",
   "version": "3.9.12"
  }
 },
 "nbformat": 4,
 "nbformat_minor": 5
}
