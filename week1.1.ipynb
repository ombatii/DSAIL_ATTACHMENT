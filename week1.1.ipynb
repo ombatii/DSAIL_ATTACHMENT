{
 "cells": [
  {
   "cell_type": "markdown",
   "id": "8093ad2e",
   "metadata": {},
   "source": [
    "# Chapter one\n",
    "# Why should you learn to write programs? "
   ]
  },
  {
   "cell_type": "markdown",
   "id": "d2096feb",
   "metadata": {},
   "source": [
    "## 1.14 Exercises"
   ]
  },
  {
   "cell_type": "raw",
   "id": "d4d01856",
   "metadata": {},
   "source": [
    "Exercise 1: What is the function of the secondary memory in a computer?\n",
    "a) Execute all of the computation and logic of the program\n",
    "b) Retrieve web pages over the Internet\n",
    "c) Store information for the long term, even beyond a power cycle\n",
    "d) Take input from the user"
   ]
  },
  {
   "cell_type": "markdown",
   "id": "c1272ae2",
   "metadata": {},
   "source": [
    "c) Store information for the long term, even beyond a power cycle"
   ]
  },
  {
   "cell_type": "raw",
   "id": "078bc8bf",
   "metadata": {},
   "source": [
    "Exercise 2: What is a program?"
   ]
  },
  {
   "cell_type": "markdown",
   "id": "ff94f580",
   "metadata": {},
   "source": [
    "A program is a set of instructions given to a computer to do some activites or give a meaningful output when fed with an input."
   ]
  },
  {
   "cell_type": "raw",
   "id": "3ae8e88a",
   "metadata": {},
   "source": [
    "Exercise 3: What is the difference between a compiler and an interpreter?"
   ]
  },
  {
   "cell_type": "markdown",
   "id": "cf1c7d01",
   "metadata": {},
   "source": [
    " In reference to python,a compiler translates the entire Python code into machine code before running while an interpreter translates and does sequential execution."
   ]
  },
  {
   "cell_type": "raw",
   "id": "c9119e46",
   "metadata": {},
   "source": [
    "Exercise 4: Which of the following contains “machine code”?\n",
    "a) The Python interpreter\n",
    "b) The keyboard\n",
    "c) Python source file\n",
    "d) A word processing document"
   ]
  },
  {
   "cell_type": "markdown",
   "id": "7203a3dc",
   "metadata": {},
   "source": [
    "a) The Python interpreter"
   ]
  },
  {
   "cell_type": "raw",
   "id": "76ab3044",
   "metadata": {},
   "source": [
    "Exercise 5: What is wrong with the following code:\n",
    "        >>> primt 'Hello world!'\n",
    "        File \"<stdin>\", line 1\n",
    "        primt 'Hello world!'\n",
    "        ^\n",
    "        SyntaxError: invalid syntax\n",
    "        >>>      "
   ]
  },
  {
   "cell_type": "markdown",
   "id": "800e9131",
   "metadata": {},
   "source": [
    "The funtion \"print\" is written incorrectly as \"primt\" also the string is not enclosed in blackets."
   ]
  },
  {
   "cell_type": "raw",
   "id": "09a2e1f3",
   "metadata": {},
   "source": [
    "Exercise 6: Where in the computer is a variable such as “x” stored after\n",
    "the following Python line finishes?\n",
    "x = 123\n",
    "a) Central processing unit\n",
    "b) Main Memory\n",
    "c) Secondary Memory\n",
    "d) Input Devices\n",
    "e) Output Devices"
   ]
  },
  {
   "cell_type": "markdown",
   "id": "99c5f838",
   "metadata": {},
   "source": [
    "b) Main Memory"
   ]
  },
  {
   "cell_type": "raw",
   "id": "08b7cccd",
   "metadata": {},
   "source": [
    "Exercise 7: What will the following program print out:\n",
    "x = 43\n",
    "x = x - 1\n",
    "print(x)\n",
    "a) 43\n",
    "b) 42\n",
    "c) x + 1\n",
    "d) Error because x = x + 1 is not possible mathematically"
   ]
  },
  {
   "cell_type": "code",
   "execution_count": 6,
   "id": "f27c10a8",
   "metadata": {},
   "outputs": [
    {
     "name": "stdout",
     "output_type": "stream",
     "text": [
      "42\n"
     ]
    }
   ],
   "source": [
    "x = 43\n",
    "x = x - 1\n",
    "print(x)"
   ]
  },
  {
   "cell_type": "markdown",
   "id": "71c829b2",
   "metadata": {},
   "source": [
    "b) 42"
   ]
  },
  {
   "cell_type": "raw",
   "id": "f393ac9b",
   "metadata": {},
   "source": [
    "Exercise 8: Explain each of the following using an example of a human capability: \n",
    "(1) Central processing unit,\n",
    "(2) Main Memory, \n",
    "(3)Secondary Memory, \n",
    "(4) Input Device, \n",
    "and (5) Output Device. For example, “What is the human equivalent to a Central Processing Unit”?"
   ]
  },
  {
   "cell_type": "markdown",
   "id": "116dbf74",
   "metadata": {},
   "source": [
    "The human equivalent to Central processing unit,Main Memory and Secondary Memory.It allows human to make the right step or action and remember what the human has learnt.Human equilatent to input device are the five sense organ such as nose enables him to smell and output device is mouth which helps him to express his thoughts. "
   ]
  },
  {
   "cell_type": "raw",
   "id": "2bf46360",
   "metadata": {},
   "source": [
    "Exercise 9: How do you fix a “Syntax Error”?"
   ]
  },
  {
   "cell_type": "markdown",
   "id": "7e3cd85e",
   "metadata": {},
   "source": [
    "Correctlty write the codes according to the \"grammar” rules of Python."
   ]
  },
  {
   "cell_type": "markdown",
   "id": "d0413e0b",
   "metadata": {},
   "source": [
    "# Chapter 2\n",
    "# Variables, expressions, and statements"
   ]
  },
  {
   "cell_type": "markdown",
   "id": "1e0ddf70",
   "metadata": {},
   "source": [
    "## 2.15 Exercises"
   ]
  },
  {
   "cell_type": "raw",
   "id": "894f2242",
   "metadata": {},
   "source": [
    "Exercise 2: Write a program that uses input to prompt a user for their\n",
    "name and then welcomes them.\n",
    "Enter your name: Chuck\n",
    "Hello Chuck"
   ]
  },
  {
   "cell_type": "code",
   "execution_count": 9,
   "id": "3fe87b1b",
   "metadata": {},
   "outputs": [
    {
     "name": "stdout",
     "output_type": "stream",
     "text": [
      "What is your name:Chuck\n",
      "Hello Chuck\n"
     ]
    }
   ],
   "source": [
    "# Inquire Input\n",
    "name = str(input(\"What is your name:\"))\n",
    "# Display output\n",
    "print(f\"Hello {name}\")"
   ]
  },
  {
   "cell_type": "raw",
   "id": "db81ca32",
   "metadata": {},
   "source": [
    "Exercise 3: Write a program to prompt the user for hours and rate per\n",
    "hour to compute gross pay.\n",
    "Enter Hours: 35\n",
    "Enter Rate: 2.75\n",
    "Pay: 96.25\n",
    "\n",
    "\n",
    "We won’t worry about making sure our pay has exactly two digits after the decimal\n",
    "place for now. If you want, you can play with the built-in Python round function\n",
    "to properly round the resulting pay to two decimal places."
   ]
  },
  {
   "cell_type": "code",
   "execution_count": 15,
   "id": "5ac9a1af",
   "metadata": {},
   "outputs": [
    {
     "name": "stdout",
     "output_type": "stream",
     "text": [
      "Enter the number of hours:35\n",
      "Enter the  rate per hour :2.75\n",
      "The gross pay is 96.25\n"
     ]
    }
   ],
   "source": [
    "# Inquire Inputs\n",
    "hours=float(input(\"Enter the number of hours:\"))\n",
    "Rate = float(input(\"Enter the  rate per hour :\"))\n",
    "\n",
    "#Calculate pay\n",
    "Pay = hours * Rate\n",
    "\n",
    "# Display \n",
    "print(\"The gross pay is %.2f\" % Pay)"
   ]
  },
  {
   "cell_type": "raw",
   "id": "9ca55c93",
   "metadata": {},
   "source": [
    "Exercise 4: Assume that we execute the following assignment statements:\n",
    "width = 17\n",
    "height = 12.0\n",
    "For each of the following expressions, write the value of the expression and the\n",
    "type (of the value of the expression).\n",
    "1. width//2\n",
    "2. width/2.0\n",
    "3. height/3\n",
    "4. 1 + 2 * 5\n",
    "Use the Python interpreter to check your answers."
   ]
  },
  {
   "cell_type": "code",
   "execution_count": 18,
   "id": "9dea6e80",
   "metadata": {},
   "outputs": [
    {
     "name": "stdout",
     "output_type": "stream",
     "text": [
      "The value of the expression is 8 the type (of the value of the expression) is <class 'int'>\n"
     ]
    }
   ],
   "source": [
    "# define the variables\n",
    "width = 17\n",
    "height = 12.0\n",
    "\n",
    "x = width//2\n",
    "print(f\"The value of the expression is {x} the type (of the value of the expression) is {type(x)}\")"
   ]
  },
  {
   "cell_type": "code",
   "execution_count": 19,
   "id": "73e0cb06",
   "metadata": {},
   "outputs": [
    {
     "name": "stdout",
     "output_type": "stream",
     "text": [
      "The value of the expression is 8.5 the type (of the value of the expression) is <class 'float'>\n"
     ]
    }
   ],
   "source": [
    "x = width/2.0\n",
    "print(f\"The value of the expression is {x} the type (of the value of the expression) is {type(x)}\")"
   ]
  },
  {
   "cell_type": "code",
   "execution_count": 20,
   "id": "18557a33",
   "metadata": {},
   "outputs": [
    {
     "name": "stdout",
     "output_type": "stream",
     "text": [
      "The value of the expression is 4.0 the type (of the value of the expression) is <class 'float'>\n"
     ]
    }
   ],
   "source": [
    "x = height/3\n",
    "print(f\"The value of the expression is {x} the type (of the value of the expression) is {type(x)}\")"
   ]
  },
  {
   "cell_type": "code",
   "execution_count": 21,
   "id": "8466072e",
   "metadata": {},
   "outputs": [
    {
     "name": "stdout",
     "output_type": "stream",
     "text": [
      "The value of the expression is 11 the type (of the value of the expression) is <class 'int'>\n"
     ]
    }
   ],
   "source": [
    "x = 1 + 2 * 5\n",
    "print(f\"The value of the expression is {x} the type (of the value of the expression) is {type(x)}\")"
   ]
  },
  {
   "cell_type": "raw",
   "id": "c64fffd3",
   "metadata": {},
   "source": [
    "Exercise 5: Write a program which prompts the user for a Celsius temperature, convert the temperature to Fahrenheit, and print out the converted temperature."
   ]
  },
  {
   "cell_type": "code",
   "execution_count": 22,
   "id": "e39c5992",
   "metadata": {},
   "outputs": [
    {
     "name": "stdout",
     "output_type": "stream",
     "text": [
      "Enter the temperature in degree Celsius8\n",
      "This is the temperature in  Fahrenheit : 46.4\n"
     ]
    }
   ],
   "source": [
    "# Inquire the input from the user\n",
    "temp = float(input(\"Enter the temperature in degree Celsius\"))\n",
    "\n",
    "# Convert into Fahrenheit\n",
    "x = (temp * 9/5) + 32\n",
    "\n",
    "# Display output\n",
    "print(f\"This is the temperature in  Fahrenheit : {x}\")"
   ]
  },
  {
   "cell_type": "markdown",
   "id": "d58b2062",
   "metadata": {},
   "source": [
    "# Chapter 3\n",
    "# Conditional execution"
   ]
  },
  {
   "cell_type": "markdown",
   "id": "90e81d32",
   "metadata": {},
   "source": [
    "## 3.11 Exercises"
   ]
  },
  {
   "cell_type": "raw",
   "id": "bfb16608",
   "metadata": {},
   "source": [
    "Exercise 1: Rewrite your pay computation to give the employee 1.5\n",
    "times the hourly rate for hours worked above 40 hours.\n",
    "Enter Hours: 45\n",
    "Enter Rate: 10\n",
    "Pay: 475.0"
   ]
  },
  {
   "cell_type": "code",
   "execution_count": 1,
   "id": "fd93d38e",
   "metadata": {},
   "outputs": [
    {
     "name": "stdout",
     "output_type": "stream",
     "text": [
      "Enter the number of hours worked:45\n",
      "Enter the rate: 10\n",
      "Payment is:475.0\n"
     ]
    }
   ],
   "source": [
    "# Inquire the input from the user\n",
    "hours = float(input(\"Enter the number of hours worked:\"))\n",
    "rate = float(input(\"Enter the rate: \"))\n",
    "\n",
    "# calculate pay computations\n",
    "if hours < 0 or rate < 0:\n",
    "    print(\"Invalid input\")\n",
    "\n",
    "elif hours <= 40:  \n",
    "    pay = hours * rate\n",
    "    print(f\"Payment is :{pay}\")\n",
    "\n",
    "elif hours > 40:\n",
    "    pay = 40 * rate + (hours - 40) * rate * 1.5\n",
    "    print(f\"Payment is:{pay}\") "
   ]
  },
  {
   "cell_type": "raw",
   "id": "7ba62a1e",
   "metadata": {},
   "source": [
    "Exercise 2: Rewrite your pay program using try and except so that your\n",
    "program handles non-numeric input gracefully by printing a message\n",
    "and exiting the program. The following shows two executions of the\n",
    "program:\n",
    "Enter Hours: 20\n",
    "Enter Rate: nine\n",
    "Error, please enter numeric input\n",
    "Enter Hours: forty\n",
    "Error, please enter numeric input"
   ]
  },
  {
   "cell_type": "code",
   "execution_count": 11,
   "id": "3e338ee2",
   "metadata": {},
   "outputs": [
    {
     "name": "stdout",
     "output_type": "stream",
     "text": [
      "Enter the number of hours worked:u\n",
      "Enter the rate: k\n",
      "Error: please enter numeric input\n"
     ]
    }
   ],
   "source": [
    "# Inquire the input from the user\n",
    "hours = input(\"Enter the number of hours worked:\")\n",
    "rate = input(\"Enter the rate: \")\n",
    "\n",
    "# calculate pay computations\n",
    "try:\n",
    "    hours = float(hours)\n",
    "    rate = float(rate)\n",
    "\n",
    "    if hours < 0 or rate < 0:\n",
    "        print(\"Invalid input\")\n",
    "    elif hours <= 40:\n",
    "        pay = hours * rate\n",
    "        print(f\"Payment is :{pay}\")\n",
    "    elif hours > 40:\n",
    "        pay = 40 * rate + (hours - 40) * rate * 1.5\n",
    "        print(f\"Payment is:{pay}\")\n",
    "\n",
    "except :\n",
    "    print(\"Error: please enter numeric input\")\n"
   ]
  },
  {
   "cell_type": "raw",
   "id": "16803c8b",
   "metadata": {},
   "source": [
    "Exercise 3: Write a program to prompt for a score between 0.0 and\n",
    "1.0. If the score is out of range, print an error message. If the score is\n",
    "between 0.0 and 1.0, print a grade using the following table:\n",
    "\n",
    "\n",
    "Score Grade\n",
    ">= 0.9 A\n",
    ">= 0.8 B\n",
    ">= 0.7 C\n",
    ">= 0.6 D\n",
    "< 0.6 F\n",
    "Enter score: 0.95\n",
    "A\n",
    "Enter score: perfect\n",
    "Bad score\n",
    "Enter score: 10.0\n",
    "Bad score\n",
    "Enter score: 0.75\n",
    "C\n",
    "Enter score: 0.5\n",
    "F\n",
    "Run the program repeatedly as shown above to test the various different values for\n",
    "input."
   ]
  },
  {
   "cell_type": "code",
   "execution_count": 16,
   "id": "45059a57",
   "metadata": {},
   "outputs": [
    {
     "name": "stdout",
     "output_type": "stream",
     "text": [
      "Enter score:h\n",
      "Enter the correct input and make sure it is between  0.0 and 1.0\n"
     ]
    }
   ],
   "source": [
    "# Inquire the input from the user\n",
    "score  = input(\"Enter score:\")\n",
    "\n",
    "try:\n",
    "    score = float(score)\n",
    "    if score < 1.1 and score >= 0.9:\n",
    "        print(\"A\")\n",
    "        \n",
    "    elif score < 0.9 and score >= 0.8:\n",
    "        print(\"B\")\n",
    "    elif score < 0.8 and score >= 0.7:\n",
    "        print(\"C\")\n",
    "    elif score < 0.7 and score >= 0.6:\n",
    "        print(\"D\")\n",
    "    else:\n",
    "        print(\"Bad score\")\n",
    "        \n",
    "except :\n",
    "    print(\"Enter the correct input and make sure it is between  0.0 and 1.0\")"
   ]
  },
  {
   "cell_type": "markdown",
   "id": "52760e08",
   "metadata": {},
   "source": [
    "# Functions"
   ]
  },
  {
   "cell_type": "raw",
   "id": "902fd334",
   "metadata": {},
   "source": [
    "Exercise 1: Run the program on your system and see what numbers you get. Run the program more than once and see what numbers you get."
   ]
  },
  {
   "cell_type": "code",
   "execution_count": 25,
   "id": "9f219b1f",
   "metadata": {},
   "outputs": [
    {
     "name": "stdout",
     "output_type": "stream",
     "text": [
      "0.8755626485843432\n",
      "0.9632350490093947\n",
      "0.9381844364529994\n",
      "0.9748179384887415\n",
      "0.485941575452684\n",
      "0.611008152262578\n",
      "0.8540384129474334\n",
      "0.2795816046068048\n",
      "0.08658038992788386\n",
      "0.11564178001950176\n"
     ]
    }
   ],
   "source": [
    "import random\n",
    "for i in range(10):\n",
    "     x = random.random()\n",
    "     print(x)"
   ]
  },
  {
   "cell_type": "raw",
   "id": "0e7d4631",
   "metadata": {},
   "source": [
    "Exercise 2: Move the last line of this program to the top, so the function call appears before the definitions. Run the program and see what error message you get."
   ]
  },
  {
   "cell_type": "code",
   "execution_count": 26,
   "id": "e210bdd4",
   "metadata": {},
   "outputs": [
    {
     "ename": "NameError",
     "evalue": "name 'repeat_lyrics' is not defined",
     "output_type": "error",
     "traceback": [
      "\u001b[1;31m---------------------------------------------------------------------------\u001b[0m",
      "\u001b[1;31mNameError\u001b[0m                                 Traceback (most recent call last)",
      "Cell \u001b[1;32mIn[26], line 1\u001b[0m\n\u001b[1;32m----> 1\u001b[0m \u001b[43mrepeat_lyrics\u001b[49m()\n\u001b[0;32m      4\u001b[0m \u001b[38;5;28;01mdef\u001b[39;00m \u001b[38;5;21mprint_lyrics\u001b[39m():\n\u001b[0;32m      5\u001b[0m     \u001b[38;5;28mprint\u001b[39m(\u001b[38;5;124m\"\u001b[39m\u001b[38;5;124mI\u001b[39m\u001b[38;5;124m'\u001b[39m\u001b[38;5;124mm a lumberjack, and I\u001b[39m\u001b[38;5;124m'\u001b[39m\u001b[38;5;124mm okay.\u001b[39m\u001b[38;5;124m\"\u001b[39m)\n",
      "\u001b[1;31mNameError\u001b[0m: name 'repeat_lyrics' is not defined"
     ]
    }
   ],
   "source": [
    "repeat_lyrics()\n",
    "\n",
    "\n",
    "def print_lyrics():\n",
    "    print(\"I'm a lumberjack, and I'm okay.\")\n",
    "    print('I sleep all night and I work all day.')\n",
    "    \n",
    "def repeat_lyrics():\n",
    "    print_lyrics()\n",
    "    print_lyrics()"
   ]
  },
  {
   "cell_type": "raw",
   "id": "fa58c1a8",
   "metadata": {},
   "source": [
    "Exercise 3: Move the function call back to the bottom and move the definition of print_lyrics after the definition of repeat_lyrics. What happens when you run this program?"
   ]
  },
  {
   "cell_type": "code",
   "execution_count": null,
   "id": "fbdd9a62",
   "metadata": {},
   "outputs": [],
   "source": [
    "\n",
    "def repeat_lyrics():\n",
    "    print_lyrics()\n",
    "    print_lyrics()\n",
    "    \n",
    "def print_lyrics():\n",
    "    print(\"I'm a lumberjack, and I'm okay.\")\n",
    "    print('I sleep all night and I work all day.')\n",
    "\n",
    "    \n",
    "repeat_lyrics()"
   ]
  },
  {
   "cell_type": "markdown",
   "id": "c7a6ef45",
   "metadata": {},
   "source": [
    "## 4.14 Exercises"
   ]
  },
  {
   "cell_type": "raw",
   "id": "f4cc70fb",
   "metadata": {},
   "source": [
    "Exercise 4: What is the purpose of the “def” keyword in Python?\n",
    "a) It is slang that means “the following code is really cool”\n",
    "b) It indicates the start of a function\n",
    "c) It indicates that the following indented section of code is to be stored for later\n",
    "d) b and c are both true\n",
    "e) None of the above"
   ]
  },
  {
   "cell_type": "markdown",
   "id": "8ebdb04e",
   "metadata": {},
   "source": [
    "b) It indicates the start of a function"
   ]
  },
  {
   "cell_type": "raw",
   "id": "0640e1b5",
   "metadata": {},
   "source": [
    "Exercise 5: What will the following Python program print out?\n",
    "def fred():\n",
    "    print(\"Zap\")\n",
    "def jane():\n",
    "    print(\"ABC\")\n",
    "    \n",
    "jane()\n",
    "fred()\n",
    "jane()\n",
    "\n",
    "a) Zap ABC jane fred jane\n",
    "b) Zap ABC Zap\n",
    "c) ABC Zap jane\n",
    "d) ABC Zap ABC\n",
    "e) Zap Zap Zap"
   ]
  },
  {
   "cell_type": "code",
   "execution_count": 27,
   "id": "6bc0d54c",
   "metadata": {},
   "outputs": [
    {
     "name": "stdout",
     "output_type": "stream",
     "text": [
      "ABC\n",
      "Zap\n",
      "ABC\n"
     ]
    }
   ],
   "source": [
    "def fred():\n",
    "    print(\"Zap\")\n",
    "def jane():\n",
    "    print(\"ABC\")\n",
    "    \n",
    "jane()\n",
    "fred()\n",
    "jane()"
   ]
  },
  {
   "cell_type": "markdown",
   "id": "1592b6d2",
   "metadata": {},
   "source": [
    "d) ABC Zap ABC"
   ]
  },
  {
   "cell_type": "raw",
   "id": "61d98d0b",
   "metadata": {},
   "source": [
    "Exercise 6: Rewrite your pay computation with time-and-a-half for over\u0002time and create a function called computepay which takes two parameters\n",
    "(hours and rate).\n",
    "Enter Hours: 45\n",
    "Enter Rate: 10\n",
    "Pay: 475.0"
   ]
  },
  {
   "cell_type": "code",
   "execution_count": 36,
   "id": "2b5c69ab",
   "metadata": {},
   "outputs": [
    {
     "name": "stdout",
     "output_type": "stream",
     "text": [
      "Enter the number of hours worked: 45\n",
      "Enter the rate: 10\n",
      "Payment is: 475.0\n"
     ]
    }
   ],
   "source": [
    "# Inquire the input from the user\n",
    "hours = input(\"Enter the number of hours worked: \")\n",
    "rate = input(\"Enter the rate: \")\n",
    "\n",
    "def computepay(hours, rate):\n",
    "    try:\n",
    "        hours = float(hours)\n",
    "        rate = float(rate)\n",
    "\n",
    "        if hours < 0 or rate < 0:\n",
    "            return \"Invalid input\"\n",
    "        elif hours <= 40:\n",
    "            pay = hours * rate\n",
    "        elif hours > 40:\n",
    "            pay = 40 * rate + (hours - 40) * rate * 1.5\n",
    "\n",
    "        return pay\n",
    "\n",
    "    except:\n",
    "        return \"Error: please enter numeric input\"\n",
    "\n",
    "print(\"Payment is:\", computepay(hours, rate))"
   ]
  },
  {
   "cell_type": "raw",
   "id": "73b76b28",
   "metadata": {},
   "source": [
    "Exercise 7: Rewrite the grade program from the previous chapter using\n",
    "a function called computegrade that takes a score as its parameter and\n",
    "returns a grade as a string.\n",
    "Score Grade\n",
    ">= 0.9 A\n",
    ">= 0.8 B\n",
    ">= 0.7 C\n",
    ">= 0.6 D\n",
    "< 0.6 F\n",
    "Enter score: 0.95\n",
    "A\n",
    "Enter score: perfect\n",
    "Bad score\n",
    "Enter score: 10.0\n",
    "Bad score\n",
    "Enter score: 0.75\n",
    "C\n",
    "Enter score: 0.5\n",
    "F\n",
    "Run the program repeatedly to test the various different values for input."
   ]
  },
  {
   "cell_type": "code",
   "execution_count": 35,
   "id": "edc5c98c",
   "metadata": {},
   "outputs": [
    {
     "name": "stdout",
     "output_type": "stream",
     "text": [
      "Enter score: 1.2\n",
      "Bad score\n"
     ]
    }
   ],
   "source": [
    "# Inquire the input from the user\n",
    "score = input(\"Enter score: \")\n",
    "\n",
    "def computegrade(score):\n",
    "    try:\n",
    "        score = float(score)\n",
    "        if score < 1.1 and score >= 0.9:\n",
    "            return \"A\"\n",
    "        elif score < 0.9 and score >= 0.8:\n",
    "            return \"B\"\n",
    "        elif score < 0.8 and score >= 0.7:\n",
    "            return \"C\"\n",
    "        elif score < 0.7 and score >= 0.6:\n",
    "            return \"D\"\n",
    "        else:\n",
    "            return \"Bad score\"\n",
    "    except:\n",
    "        return \"Enter the correct input and make sure it is between  0.0 and 1.0\"\n",
    "\n",
    "# Display the grade\n",
    "print(computegrade(score))"
   ]
  }
 ],
 "metadata": {
  "kernelspec": {
   "display_name": "Python 3 (ipykernel)",
   "language": "python",
   "name": "python3"
  },
  "language_info": {
   "codemirror_mode": {
    "name": "ipython",
    "version": 3
   },
   "file_extension": ".py",
   "mimetype": "text/x-python",
   "name": "python",
   "nbconvert_exporter": "python",
   "pygments_lexer": "ipython3",
   "version": "3.9.12"
  }
 },
 "nbformat": 4,
 "nbformat_minor": 5
}
