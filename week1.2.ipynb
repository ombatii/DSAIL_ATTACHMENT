{
 "cells": [
  {
   "cell_type": "markdown",
   "id": "c380261b",
   "metadata": {},
   "source": [
    "## 1 Why should you learn to write programs?"
   ]
  },
  {
   "cell_type": "markdown",
   "id": "abcb4582",
   "metadata": {},
   "source": [
    "Create a program that displays your name and complete mailing address formatted in the manner that you would usually see it on the outside of an envelope. Your program\n",
    "does not need to read any input from the user."
   ]
  },
  {
   "cell_type": "code",
   "execution_count": 1,
   "id": "7689bd18",
   "metadata": {},
   "outputs": [
    {
     "name": "stdout",
     "output_type": "stream",
     "text": [
      "Brian Ogeto\n",
      "P.O BOX 134-567\n",
      "Bomet-Kenya\n"
     ]
    }
   ],
   "source": [
    "print('Brian Ogeto')\n",
    "print('P.O BOX 134-567')\n",
    "print('Bomet-Kenya')"
   ]
  },
  {
   "cell_type": "markdown",
   "id": "919f66a5",
   "metadata": {},
   "source": [
    "Write a program that asks the user to enter the width and length of a room. Once\n",
    "the values have been read, your program should compute and display the area of the\n",
    "room. The length and the width will be entered as floating point numbers. Include\n",
    "units in your prompt and output message; either feet or meters, depending on which\n",
    "unit you are more comfortable working with."
   ]
  },
  {
   "cell_type": "code",
   "execution_count": 15,
   "id": "868d9f1a",
   "metadata": {},
   "outputs": [
    {
     "name": "stdout",
     "output_type": "stream",
     "text": [
      "Enter the value of the length: 5\n",
      " Enter the value of the width: 7\n",
      "Area of the room 35.0 meters\n"
     ]
    }
   ],
   "source": [
    "\"\"\" Area of the room\n",
    "let x be the length and y be the width\n",
    "\"\"\"\n",
    "## Input length and width of the room\n",
    "x = float(input(\"Enter the value of the length: \"))\n",
    "y = float(input(\" Enter the value of the width: \"))\n",
    "\n",
    "## Area\n",
    "area = x * y\n",
    "\n",
    "print(\"Area of the room\", area ,\"meters\")\n"
   ]
  },
  {
   "cell_type": "markdown",
   "id": "dacb2609",
   "metadata": {},
   "source": [
    "Create a program that reads the length and width of a farmer’s field from the user in\n",
    "feet. Display the area of the field in acres.\n",
    " > Hint: There are 43,560 square feet in an acre."
   ]
  },
  {
   "cell_type": "code",
   "execution_count": 17,
   "id": "6d5f8d71",
   "metadata": {},
   "outputs": [
    {
     "name": "stdout",
     "output_type": "stream",
     "text": [
      "Enter  the lenght of the field : 567\n",
      " Enter the width of the field : 65\n",
      "The area of the field is 0.8460743801652892 acres\n"
     ]
    }
   ],
   "source": [
    "##  AREA OF THE FIELD IN ACRES \n",
    "ACRE = 43560\n",
    "\n",
    "length = float(input(\"Enter  the lenght of the field : \"))\n",
    "width = float(input(\" Enter the width of the field : \"))\n",
    "\n",
    "area = (length * width )/ ACRE \n",
    "\n",
    "print(\"The area of the field is\" , area ,\"acres\")"
   ]
  },
  {
   "cell_type": "markdown",
   "id": "10c79f4d",
   "metadata": {},
   "source": [
    "In many jurisdictions a small deposit is added to drink containers to encourage people\n",
    "to recycle them. In one particular jurisdiction, drink containers holding one liter or\n",
    "less have a $0.10 deposit, and drink containers holding more than one liter have a\n",
    "$0.25 deposit.\n",
    "\n",
    "Write a program that reads the number of containers of each size from the user.\n",
    "Your program should continue by computing and displaying the refund that will be\n",
    "received for returning those containers. Format the output so that it includes a dollar\n",
    "sign and always displays exactly two decimal places."
   ]
  },
  {
   "cell_type": "code",
   "execution_count": 22,
   "id": "246874cf",
   "metadata": {},
   "outputs": [
    {
     "name": "stdout",
     "output_type": "stream",
     "text": [
      "How many drink containers holding one liter or less do you have: 9\n",
      "How many 𝑑𝑟𝑖𝑛𝑘  𝑐𝑜𝑛𝑡𝑎𝑖𝑛𝑒𝑟𝑠 ℎ𝑜𝑙𝑑𝑖𝑛𝑔 𝑚𝑜𝑟𝑒 𝑡ℎ𝑎𝑛 𝑜𝑛𝑒 𝑙𝑖𝑡𝑒𝑟 do you have: 9\n",
      "Your refund would be $%.2f. 3.15\n"
     ]
    }
   ],
   "source": [
    "\"\"\"\n",
    "let say less_deposit is drink containers holding one liter or less and more_deposit is 𝑑𝑟𝑖𝑛𝑘  𝑐𝑜𝑛𝑡𝑎𝑖𝑛𝑒𝑟𝑠 ℎ𝑜𝑙𝑑𝑖𝑛𝑔 𝑚𝑜𝑟𝑒 𝑡ℎ𝑎𝑛 𝑜𝑛𝑒 𝑙𝑖𝑡𝑒𝑟\n",
    "\"\"\"\n",
    "\n",
    "less_deposit = 0.10\n",
    "more_deposit = 0.25\n",
    "\n",
    "## Reading input fron user\n",
    "\n",
    "less = int(input(\"How many drink containers holding one liter or less do you have: \"))\n",
    "more =  int(input(\"How many 𝑑𝑟𝑖𝑛𝑘  𝑐𝑜𝑛𝑡𝑎𝑖𝑛𝑒𝑟𝑠 ℎ𝑜𝑙𝑑𝑖𝑛𝑔 𝑚𝑜𝑟𝑒 𝑡ℎ𝑎𝑛 𝑜𝑛𝑒 𝑙𝑖𝑡𝑒𝑟 do you have: \"))\n",
    "\n",
    "## Calculating refund \n",
    "refund = (less* less_deposit)+ (more* more_deposit )\n",
    "\n",
    "## Display the result\n",
    "\n",
    "print(\"Your refund would be $%.2f.\" , refund)\n"
   ]
  },
  {
   "cell_type": "markdown",
   "id": "588c921b",
   "metadata": {},
   "source": [
    "The program that you create for this exercise will begin by reading the cost of a meal\n",
    "ordered at a restaurant from the user. Then your program will compute the tax and\n",
    "tip for the meal. Use your local tax rate when computing the amount of tax owing.\n",
    "Compute the tip as 18 percent of the meal amount (without the tax). The output from\n",
    "your program should include the tax amount, the tip amount, and the grand total for\n",
    "the meal including both the tax and the tip. Format the output so that all of the values\n",
    "are displayed using two decimal places."
   ]
  },
  {
   "cell_type": "code",
   "execution_count": 13,
   "id": "9fb8c4ee",
   "metadata": {},
   "outputs": [
    {
     "name": "stdout",
     "output_type": "stream",
     "text": [
      "Enter the cost of the meal ordered:50\n",
      "This is your tax amount:(5.00) ,tip amount: (9.00) and the grand amount:(64.00)\n"
     ]
    }
   ],
   "source": [
    "\"\"\"\n",
    "let cost be the cost of the meal\n",
    "    tax be the tax of the meal;tax to be 10% 0f the cost\n",
    "    tip be the tip of the meal\n",
    "\"\"\"\n",
    "cost = float(input(\"Enter the cost of the meal ordered:\"))\n",
    "\n",
    "tax = 0.1 * cost\n",
    "tip = float(0.18 * cost)\n",
    "total = cost + tax + tip\n",
    "\n",
    "print(\"This is your tax amount:(%.2f) ,tip amount: (%.2f) and the grand amount:(%.2f)\" %\\\n",
    "      (tax,tip,total))\n"
   ]
  },
  {
   "cell_type": "markdown",
   "id": "ad3cc53b",
   "metadata": {},
   "source": [
    "# 2 Variables, expressions, and statements"
   ]
  },
  {
   "cell_type": "markdown",
   "id": "2021657b",
   "metadata": {},
   "source": [
    "Write a program that reads a positive integer, n, from the user and then displays the\n",
    "sum of all of the integers from 1 to n. The sum of the first n positive integers can be\n",
    "computed using the formula:\n",
    "             sum = (n)(n + 1)/2"
   ]
  },
  {
   "cell_type": "code",
   "execution_count": 13,
   "id": "8196fa95",
   "metadata": {},
   "outputs": [
    {
     "name": "stdout",
     "output_type": "stream",
     "text": [
      "Enter positive number:7\n",
      "The sum of the first n positive integers is  28.00\n"
     ]
    }
   ],
   "source": [
    "n = float (input(\"Enter positive number:\"))\n",
    "x = (n) * (n + 1)\n",
    "sum = x /2\n",
    "print(\"The sum of the first n positive integers is  %.2f\" %(sum))"
   ]
  },
  {
   "cell_type": "markdown",
   "id": "1bafc069",
   "metadata": {},
   "source": [
    "An online retailer sells two products: widgets and gizmos. Each widget weighs 75\n",
    "grams. Each gizmo weighs 112 grams. Write a program that reads the number of\n",
    "widgets and the number of gizmos in an order from the user. Then your program\n",
    "should compute and display the total weight of the order."
   ]
  },
  {
   "cell_type": "code",
   "execution_count": 16,
   "id": "333151ef",
   "metadata": {},
   "outputs": [
    {
     "name": "stdout",
     "output_type": "stream",
     "text": [
      "Enter the number of widgets :9\n",
      "Enter the number of gizmos : 8\n",
      "Total weight of the order is : 795\n"
     ]
    }
   ],
   "source": [
    "# Defining the weights of widget and gizmo\n",
    "widget = 75 \n",
    "gizmo = 112\n",
    "\n",
    "# Geting Inputs\n",
    "x = int(input(\"Enter the number of widgets :\"))\n",
    "y = int(input(\"Enter the number of gizmos : \"))\n",
    "\n",
    "# Calculating  the total weight of the order\n",
    "total_weight = (widget * x) + (gizmo + y)\n",
    "# display the total weight of the order\n",
    "print(\"Total weight of the order is :\",total_weight)"
   ]
  },
  {
   "cell_type": "markdown",
   "id": "5fea9008",
   "metadata": {},
   "source": [
    "Pretend that you have just opened a new savings account that earns 4 percent interest\n",
    "per year. The interest that you earn is paid at the end of the year, and is added\n",
    "to the balance of the savings account. Write a program that begins by reading the\n",
    "amount of money deposited into the account from the user. Then your program should\n",
    "compute and display the amount in the savings account after 1, 2, and 3 years. Display\n",
    "each amount so that it is rounded to 2 decimal places"
   ]
  },
  {
   "cell_type": "code",
   "execution_count": 5,
   "id": "9f6144a8",
   "metadata": {},
   "outputs": [
    {
     "name": "stdout",
     "output_type": "stream",
     "text": [
      "What is your amount of money deposited into the  your account :88.9\n",
      "Total amount at the end of year 1 : 124.46.\n",
      "Total amount at the end of year 2: 174.24.\n",
      "Total amount at the end of year 3: 243.94.\n"
     ]
    }
   ],
   "source": [
    "# Interest rate\n",
    "interest = 0.4\n",
    "\n",
    "# Amount\n",
    "amount = float(input(\"What is your amount of money deposited into the  your account :\"))\n",
    "\n",
    "# Calculate total acount each year\n",
    "year_1 = amount + (interest * amount)\n",
    "year_2 = year_1 + (year_1 * interest)\n",
    "year_3 = year_2 + (year_2 * interest)\n",
    "\n",
    "# Display output\n",
    "print(\"Total amount at the end of year 1 : %.2f.\"%(year_1))\n",
    "print(\"Total amount at the end of year 2: %.2f.\"%(year_2))\n",
    "print(\"Total amount at the end of year 3: %.2f.\"%(year_3))"
   ]
  },
  {
   "cell_type": "raw",
   "id": "0e30315b",
   "metadata": {},
   "source": [
    "Create a program that reads two integers, a and b, from the user. Your program should\n",
    "compute and display:\n",
    "• The sum of a and b\n",
    "• The difference when b is subtracted from a\n",
    "• The product of a and b\n",
    "• The quotient when a is divided by b\n",
    "• The remainder when a is divided by b\n",
    "• The result of log10 a\n",
    "• The result of a "
   ]
  },
  {
   "cell_type": "code",
   "execution_count": 15,
   "id": "c3950de2",
   "metadata": {},
   "outputs": [
    {
     "name": "stdout",
     "output_type": "stream",
     "text": [
      "Enter the value of a:8.5\n",
      "Enter the value of b:2.1\n",
      "The sum of a and b 10.6\n",
      "The difference when b is subtracted from a 6.4\n",
      "The product of a and b: 17.85\n",
      "The quotient when a is divided by b: 4.0476190476190474\n",
      "The remainder when a is divided by b: 0.09999999999999964\n",
      "The remainder when a is divided by b: 0.9294189257142927\n",
      "89.49107891113475\n"
     ]
    }
   ],
   "source": [
    "# Input both a and b\n",
    "a = float(input(\"Enter the value of a:\"))\n",
    "b = float(input(\"Enter the value of b:\"))\n",
    "\n",
    "# Sum\n",
    "print(\"The sum of a and b\", (a + b))\n",
    "# The difference when b is subtracted from a\n",
    "print(\"The difference when b is subtracted from a\" ,(a - b))\n",
    "\n",
    "print(\"The product of a and b:\",a * b)\n",
    "print(\"The quotient when a is divided by b:\", a/b)\n",
    "print(\"The remainder when a is divided by b:\" , a % b)\n",
    "\n",
    "import numpy as np\n",
    "print (\"The remainder when a is divided by b:\",np.log10(a))\n",
    "print (a**b)"
   ]
  },
  {
   "cell_type": "markdown",
   "id": "ec21ff7b",
   "metadata": {},
   "source": [
    "# 3 Conditional execution "
   ]
  },
  {
   "cell_type": "markdown",
   "id": "4ada7227",
   "metadata": {},
   "source": [
    "Write a program that reads an integer from the user. Then your program should\n",
    "display a message indicating whether the integer is even or odd."
   ]
  },
  {
   "cell_type": "code",
   "execution_count": 19,
   "id": "891f8b41",
   "metadata": {},
   "outputs": [
    {
     "name": "stdout",
     "output_type": "stream",
     "text": [
      "Enter a  number:7\n",
      "The number is odd\n"
     ]
    }
   ],
   "source": [
    "# Input\n",
    "x = float(input(\"Enter a  number:\"))\n",
    "\n",
    "if x % 2 == 0:\n",
    "    print(\"The number is even\")\n",
    "else:\n",
    "    print(\"The number is odd\")"
   ]
  },
  {
   "cell_type": "markdown",
   "id": "01fa8d88",
   "metadata": {},
   "source": [
    "It is commonly said that one human year is equivalent to 7 dog years. However this\n",
    "simple conversion fails to recognize that dogs reach adulthood in approximately two\n",
    "years. As a result, some people believe that it is better to count each of the first two\n",
    "human years as 10.5 dog years, and then count each additional human year as 4 dog\n",
    "years.\n",
    "\n",
    "\n",
    "Write a program that implements the conversion from human years to dog years\n",
    "described in the previous paragraph. Ensure that your program works correctly for\n",
    "conversions of less than two human years and for conversions of two or more human\n",
    "years. Your program should display an appropriate error message if the user enters\n",
    "a negative number"
   ]
  },
  {
   "cell_type": "code",
   "execution_count": 13,
   "id": "a4edbc37",
   "metadata": {},
   "outputs": [
    {
     "name": "stdout",
     "output_type": "stream",
     "text": [
      "Enter the human years: 8\n",
      "To dog's life is: 45\n"
     ]
    }
   ],
   "source": [
    "# Input human years\n",
    "x = int(input(\"Enter the human years: \"))\n",
    "\n",
    "# Converting into dog's life\n",
    "if x < 0:\n",
    "    print(\"Invalid human year\")\n",
    "elif x <= 2:\n",
    "     print(\"To dog's life it is\", x * 10.5)\n",
    "elif x > 2:\n",
    "    print(\"To dog's life is:\", 21 + (x - 2) * 4 )\n"
   ]
  },
  {
   "cell_type": "markdown",
   "id": "df034c49",
   "metadata": {},
   "source": [
    "In this exercise you will create a program that reads a letter of the alphabet from the\n",
    "user. If the user enters a, e, i, o or u then your program should display a message\n",
    "indicating that the entered letter is a vowel. If the user enters y then your program\n",
    "should display a message indicating that sometimes y is a vowel, and sometimes y is\n",
    "a consonant. Otherwise your program should display a message indicating that the\n",
    "letter is a consonant."
   ]
  },
  {
   "cell_type": "code",
   "execution_count": 20,
   "id": "f6d89c8a",
   "metadata": {},
   "outputs": [
    {
     "name": "stdout",
     "output_type": "stream",
     "text": [
      "Enter a letter: u\n",
      "The letter is a vowel\n"
     ]
    }
   ],
   "source": [
    "x = str(input(\"Enter a letter: \"))\n",
    "\n",
    "if x in ['a', 'e', 'i', 'o', 'u']:\n",
    "    print(\"The letter is a vowel\")\n",
    "    \n",
    "elif x == 'y' :\n",
    "    print(\"Sometimes y is a vowel, and sometimes y is a consonant\")\n",
    "        \n",
    "else:\n",
    "    print('The letter is a consonant')"
   ]
  },
  {
   "cell_type": "markdown",
   "id": "04da7c0f",
   "metadata": {},
   "source": [
    "Write a program that determines the name of a shape from its number of sides. Read\n",
    "the number of sides from the user and then report the appropriate name as part of\n",
    "a meaningful message. Your program should support shapes with anywhere from 3\n",
    "up to (and including) 10 sides. If a number of sides outside of this range is entered\n",
    "then your program should display an appropriate error message."
   ]
  },
  {
   "cell_type": "code",
   "execution_count": 22,
   "id": "c4af35fd",
   "metadata": {},
   "outputs": [
    {
     "name": "stdout",
     "output_type": "stream",
     "text": [
      "Enter the number of sides (must be between 3 and 10): 8\n",
      "The shape with 8 sides is a Octagon.\n"
     ]
    }
   ],
   "source": [
    "# define the dictionary with shape names and their number of sides\n",
    "shapes = {\n",
    "    3: 'Triangle',\n",
    "    4: 'Quadrilateral',\n",
    "    5: 'Pentagon',\n",
    "    6: 'Hexagon',\n",
    "    7: 'Heptagon',\n",
    "    8: 'Octagon',\n",
    "    9: 'Nonagon ',\n",
    "    10: 'Decagon'\n",
    "}\n",
    "\n",
    "# prompt the user to enter the number of sides\n",
    "x = int(input('Enter the number of sides (must be between 3 and 10): '))\n",
    "\n",
    "\n",
    "if x < 3 or x > 10:\n",
    "    print('Error: The number of sides must be between 3 and 10.')\n",
    "else:\n",
    "    shape_name = shapes[x]\n",
    "    print(f'The shape with {x} sides is a {shape_name}.')\n"
   ]
  },
  {
   "cell_type": "markdown",
   "id": "95871002",
   "metadata": {},
   "source": [
    "The length of a month varies from 28 to 31 days. In this exercise you will create\n",
    "a program that reads the name of a month from the user as a string. Then your\n",
    "program should display the number of days in that month. Display “28 or 29 days”\n",
    "for February so that leap years are addressed."
   ]
  },
  {
   "cell_type": "code",
   "execution_count": 29,
   "id": "0b510adb",
   "metadata": {},
   "outputs": [
    {
     "name": "stdout",
     "output_type": "stream",
     "text": [
      "Enter the name of month: December\n",
      "The number of days in December is 31 days\n"
     ]
    }
   ],
   "source": [
    "# Create a dictionary with months and their number of days\n",
    "year ={\n",
    "         'January': 31, \n",
    "         'February': '28 or 29 days',\n",
    "         'March': 31 ,\n",
    "         'April': 30 ,\n",
    "         'May': 31 ,\n",
    "         'June': 30, \n",
    "         'July': 31, \n",
    "         'August': 31, \n",
    "         'September': 30, \n",
    "         'October': 31, \n",
    "         'November': 30, \n",
    "         'December': 31 \n",
    "      }\n",
    "\n",
    "x = input(\"Enter the name of month: \").capitalize()\n",
    "\n",
    "if x not in year:\n",
    "    print (\"Invalid month name\")\n",
    "else:\n",
    "    y = year[x]\n",
    "    print(f\"The number of days in {x} is {y} days\")\n"
   ]
  },
  {
   "cell_type": "markdown",
   "id": "2ee18127",
   "metadata": {},
   "source": [
    "A triangle can be classified based on the lengths of its sides as equilateral, isosceles\n",
    "or scalene. All 3 sides of an equilateral triangle have the same length. An isosceles\n",
    "triangle has two sides that are the same length, and a third side that is a different\n",
    "length. If all of the sides have different lengths then the triangle is scalene.\n",
    "Write a program that reads the lengths of 3 sides of a triangle from the user.\n",
    "Display a message indicating the type of the triangle."
   ]
  },
  {
   "cell_type": "code",
   "execution_count": 34,
   "id": "fb86cf50",
   "metadata": {},
   "outputs": [
    {
     "name": "stdout",
     "output_type": "stream",
     "text": [
      "Enter the first side of the triangle :5\n",
      "Enter the second side of the triangle :7\n",
      "Enter the third side of the triangle :5\n",
      " The type of the triangle is isosceles\n"
     ]
    }
   ],
   "source": [
    "# Input the 3 sides of triangle\n",
    "x = float(input(\"Enter the first side of the triangle :\"))\n",
    "y = float(input(\"Enter the second side of the triangle :\"))\n",
    "z = float(input(\"Enter the third side of the triangle :\"))\n",
    "\n",
    "if x == y == z:\n",
    "    print(\" The type of the triangle is equilateral\")\n",
    "\n",
    "elif x == y != z or  x != y == z or  x == z != y :\n",
    "    print(\" The type of the triangle is isosceles\")\n",
    "else:\n",
    "    print(\" The type of the triangle is scalene\")\n",
    "    "
   ]
  },
  {
   "cell_type": "raw",
   "id": "181a9203",
   "metadata": {},
   "source": [
    "Canada has three national holidays which fall on the same dates each year.\n",
    "        Holiday |Date\n",
    "        New year’s day |January 1\n",
    "        Canada day |July 1\n",
    "        Christmas day |December 25\n",
    "Write a program that reads a month and day from the user. If the month and day\n",
    "match one of the holidays listed previously then your program should display the\n",
    "holiday’s name. Otherwise your program should indicate that the entered month and\n",
    "day do not correspond to a fixed-date holiday.\n",
    "\n",
    "\n",
    "\n",
    "        > Canada has two additional national holidays, Good Friday and Labour Day,whose dates vary from year to year. There are also numerous provincial and territorial holidays, some of which have fixed dates, and some of which have variable dates. We will not consider any of these additional holidays in this exercise."
   ]
  },
  {
   "cell_type": "code",
   "execution_count": 36,
   "id": "7dcb76c5",
   "metadata": {},
   "outputs": [
    {
     "name": "stdout",
     "output_type": "stream",
     "text": [
      "Enter the month: July\n",
      "Enter the day: 1\n",
      "This is the holiday :Canada day.\n"
     ]
    }
   ],
   "source": [
    "# Dictionary containing holidays \n",
    "holidays = {\n",
    "    'January 1': \"New year's day\",\n",
    "    'July 1': 'Canada day',\n",
    "    'December 25': 'Christmas day'\n",
    "}\n",
    "\n",
    "# Input the month and day from the user\n",
    "month = input(\"Enter the month: \")\n",
    "day = input(\"Enter the day: \")\n",
    "\n",
    "# Check if the entered month and day correspond to a fixed-date holiday\n",
    "date_str = month + ' ' + day\n",
    "if date_str in holidays:\n",
    "    holiday_name = holidays[date_str]\n",
    "    print(f\"This is the holiday :{holiday_name}.\")\n",
    "else:\n",
    "    print(\"The entered month and day do not correspond to a fixed-date holiday.\")\n"
   ]
  },
  {
   "cell_type": "markdown",
   "id": "797cbe3a",
   "metadata": {},
   "source": [
    "# 4 Functions"
   ]
  },
  {
   "cell_type": "markdown",
   "id": "5266da68",
   "metadata": {},
   "source": [
    "In this exercise you will create a program that computes the average of a collection\n",
    "of values entered by the user. The user will enter 0 as a sentinel value to indicate\n",
    "that no further values will be provided. Your program should display an appropriate\n",
    "error message if the first value entered by the user is 0."
   ]
  },
  {
   "cell_type": "code",
   "execution_count": 1,
   "id": "3cf7fe26",
   "metadata": {},
   "outputs": [
    {
     "name": "stdout",
     "output_type": "stream",
     "text": [
      "Enter a value (enter 0 to finish): 6\n",
      "Enter a value (enter 0 to finish): 8\n",
      "Enter a value (enter 0 to finish): 0\n",
      "The average is: 7.0\n"
     ]
    }
   ],
   "source": [
    "# Initialize total and count\n",
    "total = 0\n",
    "count = 0\n",
    "\n",
    "# get input from the uset\n",
    "while True:\n",
    "    try:\n",
    "        value = float(input(\"Enter a value (enter 0 to finish): \"))\n",
    "        if value == 0 and count == 0:\n",
    "            raise ValueError(\"first value cannot be 0\")\n",
    "        elif value == 0:\n",
    "            break\n",
    "        total += value\n",
    "        count += 1\n",
    "    except ValueError as error:\n",
    "        print(error)\n",
    "\n",
    "# Calculate the average and print it\n",
    "if count > 0:\n",
    "    avg = total / count\n",
    "    print(\"The average is:\", avg)\n",
    "else:\n",
    "    print(\"You did not enter any value.\")\n"
   ]
  },
  {
   "cell_type": "markdown",
   "id": "a70e3f3d",
   "metadata": {},
   "source": [
    "Write a function that takes the lengths of the two shorter sides of a right triangle as its parameters. Return the hypotenuse of the triangle, computed using Pythagoreantheorem, as the function’s result. Include a main program that reads the lengths of\n",
    "the shorter sides of a right triangle from the user, uses your function to compute the\n",
    "length of the hypotenuse, and displays the result."
   ]
  },
  {
   "cell_type": "code",
   "execution_count": 6,
   "id": "bdac6779",
   "metadata": {},
   "outputs": [
    {
     "name": "stdout",
     "output_type": "stream",
     "text": [
      "Enter the first length of one of the shorter sides of the right triangle :3\n",
      "Enter the second length of one of the shorter sides of the right triangle :4\n",
      "The hypotenuse of the triangle is 5.0\n"
     ]
    }
   ],
   "source": [
    "import math\n",
    "\n",
    "# Taking the lengths of two shorter sides of a right triangle \n",
    "x = float(input(\"Enter the first length of one of the shorter sides of the right triangle :\"))\n",
    "y = float(input(\"Enter the second length of one of the shorter sides of the right triangle :\"))\n",
    "\n",
    "def hypotenuse(x, y):\n",
    "    hypotenuse = math.sqrt(x**2 + y**2)\n",
    "    return hypotenuse\n",
    "\n",
    "print(f\"The hypotenuse of the triangle is {hypotenuse(x,y)}\")"
   ]
  },
  {
   "cell_type": "markdown",
   "id": "453a0984",
   "metadata": {},
   "source": [
    "In a particular jurisdiction, taxi fares consist of a base fare of $4.00, plus $0.25\n",
    "for every 140 meters traveled. Write a function that takes the distance traveled (in\n",
    "kilometers) as its only parameter and returns the total fare as its only result. Write a\n",
    "main program that demonstrates the function\n",
    " > Hint: Taxi fares change over time. Use constants to represent the base fare and the variable portion of the fare so that the   program can be updated easily when the rates increase."
   ]
  },
  {
   "cell_type": "code",
   "execution_count": 11,
   "id": "3e1b3ff1",
   "metadata": {},
   "outputs": [
    {
     "name": "stdout",
     "output_type": "stream",
     "text": [
      "Enter the distance traveled(in kilometers):55\n",
      "The taxi fare is 102.21428571428571\n"
     ]
    }
   ],
   "source": [
    "# Taking the distance traveled\n",
    "distance = float(input(\"Enter the distance traveled(in kilometers:\"))\n",
    "\n",
    "# function to calculate taxi fare\n",
    "def fare(x):\n",
    "    meter = x * 1000\n",
    "    fare = 4 + ((meter/140) * 0.25)\n",
    "    \n",
    "    return fare\n",
    "print(f\"The taxi fare is {fare(distance)}\")"
   ]
  },
  {
   "cell_type": "markdown",
   "id": "e9f7e7e4",
   "metadata": {},
   "source": [
    "An online retailer provides express shipping for many of its items at a rate of $10.95\n",
    "for the first item, and $2.95 for each subsequent item. Write a function that takes the\n",
    "number of items in the order as its only parameter. Return the shipping charge for\n",
    "the order as the function’s result. Include a main program that reads the number of\n",
    "items purchased from the user and displays the shipping charge."
   ]
  },
  {
   "cell_type": "code",
   "execution_count": 2,
   "id": "ed32aa06",
   "metadata": {},
   "outputs": [
    {
     "name": "stdout",
     "output_type": "stream",
     "text": [
      "Enter the number of items purchased :66\n",
      "Your shipping charges are :202.70 \n"
     ]
    }
   ],
   "source": [
    "# taking input from the user\n",
    "items = float(input(\"Enter the number of items purchased :\"))\n",
    "\n",
    "def rate(items):\n",
    "    rate = 10.95 + ((items - 1) * 2.95)\n",
    "    return rate\n",
    "    \n",
    "print(\"Your shipping charges are :%.2f \" %rate(items) )"
   ]
  },
  {
   "cell_type": "markdown",
   "id": "880e2d75",
   "metadata": {},
   "source": [
    "Write a function that takes three numbers as parameters, and returns the median value of those parameters as its result. Include a main program that reads three values from\n",
    "the user and displays their median.\n",
    " >Hint: The median value is the middle of the three values when they are sorted into ascending order. It can be found using if    statements, or with a little bit of mathematical creativity."
   ]
  },
  {
   "cell_type": "code",
   "execution_count": 9,
   "id": "68799448",
   "metadata": {},
   "outputs": [
    {
     "name": "stdout",
     "output_type": "stream",
     "text": [
      "Enter the first number: 8\n",
      "Enter the second number: 9\n",
      "Enter the third number: 10\n",
      "The median value is: 9.0\n"
     ]
    }
   ],
   "source": [
    "# taking input from the user\n",
    "x = float(input(\"Enter the first number: \"))\n",
    "y = float(input(\"Enter the second number: \"))\n",
    "z = float(input(\"Enter the third number: \"))\n",
    "\n",
    "def median(x, y, z):\n",
    "   \n",
    "    if y <= x <= z or z <= x <= y:\n",
    "        return x\n",
    "    elif x <= y <= z or z <= y <= x:\n",
    "        return y\n",
    "    else:\n",
    "        return z\n",
    "\n",
    "#  display the median\n",
    "print(f\"The median value is: {median(x, y, z)}\")    "
   ]
  },
  {
   "cell_type": "code",
   "execution_count": null,
   "id": "58e5fbe5",
   "metadata": {},
   "outputs": [],
   "source": []
  }
 ],
 "metadata": {
  "kernelspec": {
   "display_name": "Python 3 (ipykernel)",
   "language": "python",
   "name": "python3"
  },
  "language_info": {
   "codemirror_mode": {
    "name": "ipython",
    "version": 3
   },
   "file_extension": ".py",
   "mimetype": "text/x-python",
   "name": "python",
   "nbconvert_exporter": "python",
   "pygments_lexer": "ipython3",
   "version": "3.9.12"
  }
 },
 "nbformat": 4,
 "nbformat_minor": 5
}
